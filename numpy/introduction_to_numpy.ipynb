{
 "cells": [
  {
   "cell_type": "markdown",
   "metadata": {},
   "source": [
    "# Introduction to Numpy"
   ]
  },
  {
   "cell_type": "markdown",
   "metadata": {},
   "source": [
    "### Outline\n",
    "* [Getting started](#getting-started)\n",
    "* [ndarray](#ndarray)\n",
    "* [Creating single dimentional arrays with a python list](#single-dimentional-arrays-with-python-list)\n",
    "* [Array attributes](#array-attributes)\n",
    "    * dtype\n",
    "    * ndim\n",
    "    * size\n",
    "    * shape\n",
    "    * itemsize\n",
    "    * data\n",
    "* [Creating multi-dimentional arrays with python sequences](#multi-dimentional-arrays-with-python-sequences)\n",
    "* [More creational routines](#more-creational-routines)\n",
    "   * zeros\n",
    "   * ones\n",
    "   * arange\n",
    "* Manupulating arrays \n",
    "    * reshape\n",
    "* More routines\n",
    "    * linspace\n",
    "    * random\n",
    "* Basic Operations\n",
    "    * Scalar addition\n",
    "    * Scalar multiplication\n",
    "    * Element-wise addition\n",
    "    * Element-wise subtraction\n",
    "    * Element-wise multiplication\n",
    "    * Matrix dot product\n",
    "* Universal functions\n",
    "* Aggregate functions\n",
    "    * sum\n",
    "    * min \n",
    "    * max \n",
    "    * mean \n",
    "    * std\n",
    "* Indexing\n",
    "* Slicing\n",
    "* Iteration\n",
    "* Conditions and boolean arrays\n",
    "* Shape manipulation\n",
    "    * reshape\n",
    "    * ravel\n",
    "* Array manipulation\n",
    "    * joining arrays\n",
    "        * vstack\n",
    "        * hstack\n",
    "        * column_stack\n",
    "        * row_stack\n",
    "    * spliting arrays\n",
    "        * hsplit\n",
    "        * vsplit\n",
    "        * split\n",
    "* Vectorization\n",
    "* Broadcasting\n",
    "* Structured Arrays\n",
    "* Reading and writing data on files\n",
    "    * saving data as binary\n",
    "    * loading binary data\n",
    "    * reading tabular data\n",
    "    * \n",
    " "
   ]
  },
  {
   "cell_type": "markdown",
   "metadata": {},
   "source": [
    "<a id=\"getting-started\"></a>\n",
    "### Getting Started\n",
    "\n",
    "By convention, when imported numpy is typically aliased as np."
   ]
  },
  {
   "cell_type": "code",
   "execution_count": 17,
   "metadata": {},
   "outputs": [],
   "source": [
    "import numpy as np"
   ]
  },
  {
   "cell_type": "markdown",
   "metadata": {},
   "source": [
    "<a id=\"ndarray\"></a>\n",
    "### ndarray\n",
    "\n",
    "An [ndarray](https://numpy.org/devdocs/reference/arrays.ndarray.html#) is a multidimensional homogeneous array with a predetermined number of items.\n",
    "\n",
    "* homogeneous meaning that all items are of the same [dtype](https://numpy.org/doc/1.17/reference/arrays.dtypes.html?highlight=dtype) and size.\n",
    "* the data type is specified by another NumPy object called dtype (data-type).\n",
    "* each ndarray is associated with only one data-type."
   ]
  },
  {
   "cell_type": "markdown",
   "metadata": {},
   "source": [
    "<a id=\"single-dimentional-arrays-with-python-list\"></a>\n",
    "### Creating single dimentional arrays with a python list\n",
    "\n",
    "Arrays can be constructed using [creational routines](https://numpy.org/devdocs/reference/generated/numpy.array.html#numpy.array)"
   ]
  },
  {
   "cell_type": "markdown",
   "metadata": {},
   "source": [
    "[data source](https://www.metacritic.com/movie/serenity/critic-reviews) for scores."
   ]
  },
  {
   "cell_type": "code",
   "execution_count": 18,
   "metadata": {},
   "outputs": [],
   "source": [
    "serenity_movie_critic_scores = [\n",
    "    100, 91, 90, 90, 88, 88, 80, 80, 80, 80, \n",
    "     80, 80, 78, 75, 75, 75, 75, 75, 75, 75, \n",
    "     75, 75, 75, 75, 70, 70, 70, 70, 70, 70,\n",
    "     63, 50, 50, 50\n",
    "]"
   ]
  },
  {
   "cell_type": "markdown",
   "metadata": {},
   "source": [
    "[numpy.array](https://numpy.org/devdocs/reference/generated/numpy.array.html#numpy.array)"
   ]
  },
  {
   "cell_type": "code",
   "execution_count": 19,
   "metadata": {},
   "outputs": [],
   "source": [
    "x = np.array(serenity_movie_critic_scores, np.int32)"
   ]
  },
  {
   "cell_type": "code",
   "execution_count": 20,
   "metadata": {},
   "outputs": [
    {
     "data": {
      "text/plain": [
       "array([100,  91,  90,  90,  88,  88,  80,  80,  80,  80,  80,  80,  78,\n",
       "        75,  75,  75,  75,  75,  75,  75,  75,  75,  75,  75,  70,  70,\n",
       "        70,  70,  70,  70,  63,  50,  50,  50], dtype=int32)"
      ]
     },
     "execution_count": 20,
     "metadata": {},
     "output_type": "execute_result"
    }
   ],
   "source": [
    "x"
   ]
  },
  {
   "cell_type": "code",
   "execution_count": 21,
   "metadata": {},
   "outputs": [
    {
     "data": {
      "text/plain": [
       "numpy.ndarray"
      ]
     },
     "execution_count": 21,
     "metadata": {},
     "output_type": "execute_result"
    }
   ],
   "source": [
    "type(x)"
   ]
  },
  {
   "cell_type": "markdown",
   "metadata": {},
   "source": [
    "<a id=\"array-attributes\"></a>\n",
    "### Array Attributes\n",
    "\n",
    "[Array attributes](https://numpy.org/doc/1.17/reference/arrays.ndarray.html#array-attributes) reflect information that is intrinsic to the array itself. "
   ]
  },
  {
   "cell_type": "code",
   "execution_count": 22,
   "metadata": {},
   "outputs": [
    {
     "data": {
      "text/plain": [
       "dtype('int32')"
      ]
     },
     "execution_count": 22,
     "metadata": {},
     "output_type": "execute_result"
    }
   ],
   "source": [
    "# Data-type of the array’s elements.\n",
    "x.dtype"
   ]
  },
  {
   "cell_type": "code",
   "execution_count": 23,
   "metadata": {},
   "outputs": [
    {
     "data": {
      "text/plain": [
       "1"
      ]
     },
     "execution_count": 23,
     "metadata": {},
     "output_type": "execute_result"
    }
   ],
   "source": [
    "# Number of array dimensions.\n",
    "x.ndim"
   ]
  },
  {
   "cell_type": "code",
   "execution_count": 24,
   "metadata": {},
   "outputs": [
    {
     "data": {
      "text/plain": [
       "34"
      ]
     },
     "execution_count": 24,
     "metadata": {},
     "output_type": "execute_result"
    }
   ],
   "source": [
    "# Number of elements in the array.\n",
    "x.size"
   ]
  },
  {
   "cell_type": "code",
   "execution_count": 25,
   "metadata": {},
   "outputs": [
    {
     "data": {
      "text/plain": [
       "(34,)"
      ]
     },
     "execution_count": 25,
     "metadata": {},
     "output_type": "execute_result"
    }
   ],
   "source": [
    "# Tuple of array dimensions.\n",
    "x.shape"
   ]
  },
  {
   "cell_type": "code",
   "execution_count": 26,
   "metadata": {},
   "outputs": [
    {
     "data": {
      "text/plain": [
       "4"
      ]
     },
     "execution_count": 26,
     "metadata": {},
     "output_type": "execute_result"
    }
   ],
   "source": [
    "# Length of one array element in bytes.\n",
    "x.itemsize"
   ]
  },
  {
   "cell_type": "markdown",
   "metadata": {},
   "source": [
    "**Knowledge check**  \n",
    "When we created the array, we specified that each item should have a datatype of np.int32.  \n",
    "How would the value of the itemsize attribute change if we changed the datatype to np.int64?  \n",
    "Try it out!"
   ]
  },
  {
   "cell_type": "code",
   "execution_count": 27,
   "metadata": {},
   "outputs": [
    {
     "data": {
      "text/plain": [
       "<memory at 0x110e8f390>"
      ]
     },
     "execution_count": 27,
     "metadata": {},
     "output_type": "execute_result"
    }
   ],
   "source": [
    "# Python buffer object pointing to the start of the array’s data.\n",
    "x.data"
   ]
  },
  {
   "cell_type": "markdown",
   "metadata": {},
   "source": [
    "<a id=\"multi-dimentional-arrays-with-python-sequences\"></a>\n",
    "### Creating Multi Dimentional Arrays With Python Sequences\n",
    "\n",
    "Matrix resources:\n",
    "* [Khan Academy - Introduction to matrices](https://www.khanacademy.org/math/precalculus/x9e81a4f98389efdf:matrices/x9e81a4f98389efdf:mat-intro/v/introduction-to-the-matrix)\n",
    "* [Wikipedia - Matrix](https://en.wikipedia.org/wiki/Matrix_(mathematics))"
   ]
  },
  {
   "cell_type": "markdown",
   "metadata": {},
   "source": [
    "Let's create a 2D Matrix containing the quaterly US sales for Harley Davidson Motorcycles.  \n",
    "\n",
    "|  Year  | Q1     | Q2     | Q3     |\n",
    "| ------ | ------ | ------ | ------ |\n",
    "| 2018   | 29309  | 46490  | 36220  |\n",
    "| 2019   | 28091  | 42762  | 34903  |\n",
    "\n",
    "data source:\n",
    "* [2019 Q1](https://investor.harley-davidson.com/static-files/34d087e4-95d5-45ff-9098-fe8c09bee292)\n",
    "* [2019 Q2](https://investor.harley-davidson.com/static-files/2a5df0f5-6ea5-4860-803e-bc31828e0526)\n",
    "* [2019 Q3](https://investor.harley-davidson.com/static-files/51bb4f70-77c6-4526-9c87-046c3a7c0f5e)\n",
    "\n"
   ]
  },
  {
   "cell_type": "code",
   "execution_count": 53,
   "metadata": {},
   "outputs": [],
   "source": [
    "# We could have also elected for a list of lists or a tuple as tuples.\n",
    "hd_us_sales = [(29309, 46490, 36220), (28091, 42762, 34903)]"
   ]
  },
  {
   "cell_type": "code",
   "execution_count": 44,
   "metadata": {},
   "outputs": [
    {
     "data": {
      "text/plain": [
       "[(29309, 46490, 36220), (28091, 42762, 34903)]"
      ]
     },
     "execution_count": 44,
     "metadata": {},
     "output_type": "execute_result"
    }
   ],
   "source": [
    "hd_us_sales"
   ]
  },
  {
   "cell_type": "code",
   "execution_count": 62,
   "metadata": {},
   "outputs": [],
   "source": [
    "# Notice here that we did not specify the dtype when creating the array. \n",
    "# Numpy  will automatically determined as the minimum type required to hold the objects in the sequence.\n",
    "X =  np.array(hd_us_sales)"
   ]
  },
  {
   "cell_type": "code",
   "execution_count": 46,
   "metadata": {},
   "outputs": [
    {
     "data": {
      "text/plain": [
       "array([[29309, 46490, 36220],\n",
       "       [28091, 42762, 34903]])"
      ]
     },
     "execution_count": 46,
     "metadata": {},
     "output_type": "execute_result"
    }
   ],
   "source": [
    "X"
   ]
  },
  {
   "cell_type": "code",
   "execution_count": 54,
   "metadata": {},
   "outputs": [
    {
     "data": {
      "text/plain": [
       "numpy.ndarray"
      ]
     },
     "execution_count": 54,
     "metadata": {},
     "output_type": "execute_result"
    }
   ],
   "source": [
    "type(X)"
   ]
  },
  {
   "cell_type": "markdown",
   "metadata": {},
   "source": [
    "Once again, let's have a look at the attributes associated with this ndarray."
   ]
  },
  {
   "cell_type": "code",
   "execution_count": 49,
   "metadata": {},
   "outputs": [
    {
     "data": {
      "text/plain": [
       "dtype('int64')"
      ]
     },
     "execution_count": 49,
     "metadata": {},
     "output_type": "execute_result"
    }
   ],
   "source": [
    "X.dtype"
   ]
  },
  {
   "cell_type": "code",
   "execution_count": 50,
   "metadata": {},
   "outputs": [
    {
     "data": {
      "text/plain": [
       "2"
      ]
     },
     "execution_count": 50,
     "metadata": {},
     "output_type": "execute_result"
    }
   ],
   "source": [
    "X.ndim"
   ]
  },
  {
   "cell_type": "code",
   "execution_count": 51,
   "metadata": {},
   "outputs": [
    {
     "data": {
      "text/plain": [
       "6"
      ]
     },
     "execution_count": 51,
     "metadata": {},
     "output_type": "execute_result"
    }
   ],
   "source": [
    "X.size"
   ]
  },
  {
   "cell_type": "code",
   "execution_count": 52,
   "metadata": {},
   "outputs": [
    {
     "data": {
      "text/plain": [
       "(2, 3)"
      ]
     },
     "execution_count": 52,
     "metadata": {},
     "output_type": "execute_result"
    }
   ],
   "source": [
    "X.shape"
   ]
  },
  {
   "cell_type": "markdown",
   "metadata": {},
   "source": [
    "X has rank 2 since it has two axes. Each axe has 3 elements."
   ]
  },
  {
   "cell_type": "code",
   "execution_count": 60,
   "metadata": {},
   "outputs": [
    {
     "data": {
      "text/plain": [
       "2"
      ]
     },
     "execution_count": 60,
     "metadata": {},
     "output_type": "execute_result"
    }
   ],
   "source": [
    "np.linalg.matrix_rank(X)"
   ]
  },
  {
   "cell_type": "markdown",
   "metadata": {},
   "source": [
    "<a id=\"more-creational-routines\"></a>\n",
    "### More Creational Routines"
   ]
  },
  {
   "cell_type": "markdown",
   "metadata": {},
   "source": [
    "There are times when we want to create arrays initilized with default values."
   ]
  },
  {
   "cell_type": "markdown",
   "metadata": {},
   "source": [
    "#### Zeros\n",
    "Let's create an array of a given shape and size filled with zeros.  \n",
    "The [zeroes creation routine](https://numpy.org/devdocs/reference/generated/numpy.zeros.html#numpy.zeros) expects a shape. It also allows for two additional parameters.\n",
    "\n",
    "numpy.zeros(shape, dtype=float, order='C')"
   ]
  },
  {
   "cell_type": "code",
   "execution_count": 64,
   "metadata": {},
   "outputs": [],
   "source": [
    "x = np.zeros((2, 3), dtype=int)"
   ]
  },
  {
   "cell_type": "code",
   "execution_count": 65,
   "metadata": {},
   "outputs": [
    {
     "data": {
      "text/plain": [
       "array([[0, 0, 0],\n",
       "       [0, 0, 0]])"
      ]
     },
     "execution_count": 65,
     "metadata": {},
     "output_type": "execute_result"
    }
   ],
   "source": [
    "x"
   ]
  },
  {
   "cell_type": "markdown",
   "metadata": {},
   "source": [
    "#### Ones\n",
    "\n",
    "Simlarly, the [ones creational routine](https://numpy.org/devdocs/reference/generated/numpy.ones.html#numpy.ones) will generate an array where every element's value is one."
   ]
  },
  {
   "cell_type": "code",
   "execution_count": 66,
   "metadata": {},
   "outputs": [],
   "source": [
    "x = np.ones((4, 4))"
   ]
  },
  {
   "cell_type": "code",
   "execution_count": 67,
   "metadata": {},
   "outputs": [
    {
     "data": {
      "text/plain": [
       "array([[1., 1., 1., 1.],\n",
       "       [1., 1., 1., 1.],\n",
       "       [1., 1., 1., 1.],\n",
       "       [1., 1., 1., 1.]])"
      ]
     },
     "execution_count": 67,
     "metadata": {},
     "output_type": "execute_result"
    }
   ],
   "source": [
    "x"
   ]
  },
  {
   "cell_type": "markdown",
   "metadata": {},
   "source": [
    "#### Range\n",
    "\n",
    "The [arange creational routine](https://numpy.org/devdocs/reference/generated/numpy.arange.html#numpy.arange) is useful when we need to create an array with evenly space values within a given interval.\n",
    "\n",
    "numpy.arange([start, ]stop, [step, ]dtype=None)"
   ]
  },
  {
   "cell_type": "code",
   "execution_count": 70,
   "metadata": {},
   "outputs": [],
   "source": [
    "x = np.arange(10)\n",
    "y = np.arange(20, 30)\n",
    "z = np.arange(40, 50, 2)"
   ]
  },
  {
   "cell_type": "code",
   "execution_count": 69,
   "metadata": {},
   "outputs": [
    {
     "data": {
      "text/plain": [
       "array([0, 1, 2, 3, 4, 5, 6, 7, 8, 9])"
      ]
     },
     "execution_count": 69,
     "metadata": {},
     "output_type": "execute_result"
    }
   ],
   "source": [
    "x"
   ]
  },
  {
   "cell_type": "code",
   "execution_count": 71,
   "metadata": {},
   "outputs": [
    {
     "data": {
      "text/plain": [
       "array([20, 21, 22, 23, 24, 25, 26, 27, 28, 29])"
      ]
     },
     "execution_count": 71,
     "metadata": {},
     "output_type": "execute_result"
    }
   ],
   "source": [
    "y"
   ]
  },
  {
   "cell_type": "code",
   "execution_count": 72,
   "metadata": {},
   "outputs": [
    {
     "data": {
      "text/plain": [
       "array([40, 42, 44, 46, 48])"
      ]
     },
     "execution_count": 72,
     "metadata": {},
     "output_type": "execute_result"
    }
   ],
   "source": [
    "z"
   ]
  },
  {
   "cell_type": "code",
   "execution_count": null,
   "metadata": {},
   "outputs": [],
   "source": []
  }
 ],
 "metadata": {
  "kernelspec": {
   "display_name": "Python 3",
   "language": "python",
   "name": "python3"
  },
  "language_info": {
   "codemirror_mode": {
    "name": "ipython",
    "version": 3
   },
   "file_extension": ".py",
   "mimetype": "text/x-python",
   "name": "python",
   "nbconvert_exporter": "python",
   "pygments_lexer": "ipython3",
   "version": "3.7.4"
  }
 },
 "nbformat": 4,
 "nbformat_minor": 2
}
