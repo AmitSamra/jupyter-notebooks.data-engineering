{
 "cells": [
  {
   "cell_type": "markdown",
   "metadata": {},
   "source": [
    "# Introduction to Numpy"
   ]
  },
  {
   "cell_type": "markdown",
   "metadata": {},
   "source": [
    "### Outline\n",
    "* [Getting started](#getting-started)\n",
    "* [ndarray](#ndarray)\n",
    "* [Creating single dimentional arrays with a python list](#single-dimentional-arrays-with-python-list)\n",
    "* [Array attributes](#array-attributes)\n",
    "    * dtype\n",
    "    * ndim\n",
    "    * size\n",
    "    * shape\n",
    "    * itemsize\n",
    "    * data\n",
    "* [Creating multi-dimentional arrays with python sequences](#multi-dimentional-arrays-with-python-sequences)\n",
    "* [More creational routines](#more-creational-routines)\n",
    "   * zeros\n",
    "   * ones\n",
    "   * arange\n",
    "* [Array manipulation routines](#array-manipulation-routines) \n",
    "    * reshape\n",
    "    * ravel\n",
    "* More routines\n",
    "    * linspace\n",
    "    * random\n",
    "* [Structured arrays](#structured-arrays)\n",
    "* [Basic operations](#basic-operations)\n",
    "    * Scalar addition\n",
    "    * Scalar multiplication\n",
    "    * Element-wise addition\n",
    "    * Element-wise subtraction\n",
    "    * Element-wise multiplication\n",
    "    * Matrix dot product\n",
    "* [Universal functions](#universal-functions)\n",
    "* Aggregate functions\n",
    "    * sum\n",
    "    * min \n",
    "    * max \n",
    "    * mean \n",
    "    * std\n",
    "* Indexing\n",
    "* Slicing\n",
    "* Iteration\n",
    "* Conditions and boolean arrays\n",
    "* Array manipulation\n",
    "    * joining arrays\n",
    "        * vstack\n",
    "        * hstack\n",
    "        * column_stack\n",
    "        * row_stack\n",
    "    * spliting arrays\n",
    "        * hsplit\n",
    "        * vsplit\n",
    "        * split\n",
    "* Vectorization\n",
    "* Broadcasting\n",
    "* Reading and writing data on files\n",
    "    * saving data as binary\n",
    "    * loading binary data\n",
    "    * reading tabular data\n",
    "    * \n",
    " "
   ]
  },
  {
   "cell_type": "markdown",
   "metadata": {},
   "source": [
    "<a id=\"getting-started\"></a>\n",
    "### Getting Started\n",
    "\n",
    "By convention, when imported numpy is typically aliased as np."
   ]
  },
  {
   "cell_type": "code",
   "execution_count": 1,
   "metadata": {},
   "outputs": [],
   "source": [
    "import numpy as np"
   ]
  },
  {
   "cell_type": "markdown",
   "metadata": {},
   "source": [
    "<a id=\"ndarray\"></a>\n",
    "### ndarray\n",
    "\n",
    "An [ndarray](https://numpy.org/devdocs/reference/arrays.ndarray.html#) is a multidimensional homogeneous array with a predetermined number of items.\n",
    "\n",
    "* homogeneous meaning that all items are of the same [dtype](https://numpy.org/doc/1.17/reference/arrays.dtypes.html?highlight=dtype) and size.\n",
    "* the data type is specified by another NumPy object called dtype (data-type).\n",
    "* each ndarray is associated with only one data-type."
   ]
  },
  {
   "cell_type": "markdown",
   "metadata": {},
   "source": [
    "<a id=\"single-dimentional-arrays-with-python-list\"></a>\n",
    "### Creating single dimentional arrays with a python list\n",
    "\n",
    "Arrays can be constructed using [creational routines](https://numpy.org/devdocs/reference/generated/numpy.array.html#numpy.array)"
   ]
  },
  {
   "cell_type": "markdown",
   "metadata": {},
   "source": [
    "[data source](https://www.metacritic.com/movie/serenity/critic-reviews) for scores."
   ]
  },
  {
   "cell_type": "code",
   "execution_count": 2,
   "metadata": {},
   "outputs": [],
   "source": [
    "serenity_movie_critic_scores = [\n",
    "    100, 91, 90, 90, 88, 88, 80, 80, 80, 80, \n",
    "     80, 80, 78, 75, 75, 75, 75, 75, 75, 75, \n",
    "     75, 75, 75, 75, 70, 70, 70, 70, 70, 70,\n",
    "     63, 50, 50, 50\n",
    "]"
   ]
  },
  {
   "cell_type": "markdown",
   "metadata": {},
   "source": [
    "[numpy.array](https://numpy.org/devdocs/reference/generated/numpy.array.html#numpy.array)"
   ]
  },
  {
   "cell_type": "code",
   "execution_count": 3,
   "metadata": {},
   "outputs": [],
   "source": [
    "x = np.array(serenity_movie_critic_scores, np.int32)"
   ]
  },
  {
   "cell_type": "code",
   "execution_count": 4,
   "metadata": {},
   "outputs": [
    {
     "data": {
      "text/plain": [
       "array([100,  91,  90,  90,  88,  88,  80,  80,  80,  80,  80,  80,  78,\n",
       "        75,  75,  75,  75,  75,  75,  75,  75,  75,  75,  75,  70,  70,\n",
       "        70,  70,  70,  70,  63,  50,  50,  50], dtype=int32)"
      ]
     },
     "execution_count": 4,
     "metadata": {},
     "output_type": "execute_result"
    }
   ],
   "source": [
    "x"
   ]
  },
  {
   "cell_type": "code",
   "execution_count": 5,
   "metadata": {},
   "outputs": [
    {
     "data": {
      "text/plain": [
       "numpy.ndarray"
      ]
     },
     "execution_count": 5,
     "metadata": {},
     "output_type": "execute_result"
    }
   ],
   "source": [
    "type(x)"
   ]
  },
  {
   "cell_type": "markdown",
   "metadata": {},
   "source": [
    "<a id=\"array-attributes\"></a>\n",
    "### Array Attributes\n",
    "\n",
    "[Array attributes](https://numpy.org/doc/1.17/reference/arrays.ndarray.html#array-attributes) reflect information that is intrinsic to the array itself. "
   ]
  },
  {
   "cell_type": "code",
   "execution_count": 6,
   "metadata": {},
   "outputs": [
    {
     "data": {
      "text/plain": [
       "dtype('int32')"
      ]
     },
     "execution_count": 6,
     "metadata": {},
     "output_type": "execute_result"
    }
   ],
   "source": [
    "# Data-type of the array’s elements.\n",
    "x.dtype"
   ]
  },
  {
   "cell_type": "code",
   "execution_count": 7,
   "metadata": {},
   "outputs": [
    {
     "data": {
      "text/plain": [
       "1"
      ]
     },
     "execution_count": 7,
     "metadata": {},
     "output_type": "execute_result"
    }
   ],
   "source": [
    "# Number of array dimensions.\n",
    "x.ndim"
   ]
  },
  {
   "cell_type": "code",
   "execution_count": 8,
   "metadata": {},
   "outputs": [
    {
     "data": {
      "text/plain": [
       "34"
      ]
     },
     "execution_count": 8,
     "metadata": {},
     "output_type": "execute_result"
    }
   ],
   "source": [
    "# Number of elements in the array.\n",
    "x.size"
   ]
  },
  {
   "cell_type": "code",
   "execution_count": 9,
   "metadata": {},
   "outputs": [
    {
     "data": {
      "text/plain": [
       "(34,)"
      ]
     },
     "execution_count": 9,
     "metadata": {},
     "output_type": "execute_result"
    }
   ],
   "source": [
    "# Tuple of array dimensions.\n",
    "x.shape"
   ]
  },
  {
   "cell_type": "code",
   "execution_count": 10,
   "metadata": {},
   "outputs": [
    {
     "data": {
      "text/plain": [
       "4"
      ]
     },
     "execution_count": 10,
     "metadata": {},
     "output_type": "execute_result"
    }
   ],
   "source": [
    "# Length of one array element in bytes.\n",
    "x.itemsize"
   ]
  },
  {
   "cell_type": "code",
   "execution_count": 11,
   "metadata": {},
   "outputs": [
    {
     "data": {
      "text/plain": [
       "136"
      ]
     },
     "execution_count": 11,
     "metadata": {},
     "output_type": "execute_result"
    }
   ],
   "source": [
    "# Total bytes consumed by the elements of the array.\n",
    "# Same as x.size * x.itemsize\n",
    "x.nbytes"
   ]
  },
  {
   "cell_type": "markdown",
   "metadata": {},
   "source": [
    "**Knowledge check**  \n",
    "When we created the array, we specified that each item should have a datatype of np.int32.  \n",
    "How would the value of the itemsize attribute change if we changed the datatype to np.int64?  \n",
    "Try it out!"
   ]
  },
  {
   "cell_type": "markdown",
   "metadata": {},
   "source": [
    "<a id=\"multi-dimentional-arrays-with-python-sequences\"></a>\n",
    "### Creating Multi Dimentional Arrays With Python Sequences\n",
    "\n",
    "Matrix resources:\n",
    "* [Khan Academy - Introduction to matrices](https://www.khanacademy.org/math/precalculus/x9e81a4f98389efdf:matrices/x9e81a4f98389efdf:mat-intro/v/introduction-to-the-matrix)\n",
    "* [Wikipedia - Matrix](https://en.wikipedia.org/wiki/Matrix_(mathematics))"
   ]
  },
  {
   "cell_type": "markdown",
   "metadata": {},
   "source": [
    "Let's create a 2D array containing the quaterly US sales for Harley Davidson Motorcycles.  \n",
    "\n",
    "|  Year  | Q1     | Q2     | Q3     |\n",
    "| ------ | ------ | ------ | ------ |\n",
    "| 2018   | 29309  | 46490  | 36220  |\n",
    "| 2019   | 28091  | 42762  | 34903  |\n",
    "\n",
    "data source:\n",
    "* [2019 Q1](https://investor.harley-davidson.com/static-files/34d087e4-95d5-45ff-9098-fe8c09bee292)\n",
    "* [2019 Q2](https://investor.harley-davidson.com/static-files/2a5df0f5-6ea5-4860-803e-bc31828e0526)\n",
    "* [2019 Q3](https://investor.harley-davidson.com/static-files/51bb4f70-77c6-4526-9c87-046c3a7c0f5e)\n",
    "\n"
   ]
  },
  {
   "cell_type": "code",
   "execution_count": 12,
   "metadata": {},
   "outputs": [],
   "source": [
    "# We could have also elected for a list of lists or a tuple of tuples.\n",
    "hd_us_sales = [(29309, 46490, 36220), (28091, 42762, 34903)]"
   ]
  },
  {
   "cell_type": "code",
   "execution_count": 13,
   "metadata": {},
   "outputs": [
    {
     "data": {
      "text/plain": [
       "[(29309, 46490, 36220), (28091, 42762, 34903)]"
      ]
     },
     "execution_count": 13,
     "metadata": {},
     "output_type": "execute_result"
    }
   ],
   "source": [
    "hd_us_sales"
   ]
  },
  {
   "cell_type": "code",
   "execution_count": 14,
   "metadata": {},
   "outputs": [],
   "source": [
    "# Notice here that we are not providing dtype to the function. \n",
    "# Numpy will automatically determine as the minimum type required to hold the objects in the sequence.\n",
    "X =  np.array(hd_us_sales)"
   ]
  },
  {
   "cell_type": "code",
   "execution_count": 15,
   "metadata": {},
   "outputs": [
    {
     "data": {
      "text/plain": [
       "array([[29309, 46490, 36220],\n",
       "       [28091, 42762, 34903]])"
      ]
     },
     "execution_count": 15,
     "metadata": {},
     "output_type": "execute_result"
    }
   ],
   "source": [
    "X"
   ]
  },
  {
   "cell_type": "code",
   "execution_count": 16,
   "metadata": {},
   "outputs": [
    {
     "data": {
      "text/plain": [
       "numpy.ndarray"
      ]
     },
     "execution_count": 16,
     "metadata": {},
     "output_type": "execute_result"
    }
   ],
   "source": [
    "type(X)"
   ]
  },
  {
   "cell_type": "markdown",
   "metadata": {},
   "source": [
    "Once again, let's have a look at the attributes associated with this ndarray."
   ]
  },
  {
   "cell_type": "code",
   "execution_count": 17,
   "metadata": {},
   "outputs": [
    {
     "data": {
      "text/plain": [
       "dtype('int64')"
      ]
     },
     "execution_count": 17,
     "metadata": {},
     "output_type": "execute_result"
    }
   ],
   "source": [
    "X.dtype"
   ]
  },
  {
   "cell_type": "code",
   "execution_count": 18,
   "metadata": {},
   "outputs": [
    {
     "data": {
      "text/plain": [
       "2"
      ]
     },
     "execution_count": 18,
     "metadata": {},
     "output_type": "execute_result"
    }
   ],
   "source": [
    "X.ndim"
   ]
  },
  {
   "cell_type": "code",
   "execution_count": 19,
   "metadata": {},
   "outputs": [
    {
     "data": {
      "text/plain": [
       "6"
      ]
     },
     "execution_count": 19,
     "metadata": {},
     "output_type": "execute_result"
    }
   ],
   "source": [
    "X.size"
   ]
  },
  {
   "cell_type": "code",
   "execution_count": 20,
   "metadata": {},
   "outputs": [
    {
     "data": {
      "text/plain": [
       "(2, 3)"
      ]
     },
     "execution_count": 20,
     "metadata": {},
     "output_type": "execute_result"
    }
   ],
   "source": [
    "X.shape"
   ]
  },
  {
   "cell_type": "markdown",
   "metadata": {},
   "source": [
    "X has rank 2 since it has two axes. Each axe has 3 elements."
   ]
  },
  {
   "cell_type": "code",
   "execution_count": 21,
   "metadata": {},
   "outputs": [
    {
     "data": {
      "text/plain": [
       "2"
      ]
     },
     "execution_count": 21,
     "metadata": {},
     "output_type": "execute_result"
    }
   ],
   "source": [
    "np.linalg.matrix_rank(X)"
   ]
  },
  {
   "cell_type": "markdown",
   "metadata": {},
   "source": [
    "<a id=\"more-creational-routines\"></a>\n",
    "### More Creational Routines"
   ]
  },
  {
   "cell_type": "markdown",
   "metadata": {},
   "source": [
    "There are times when we want to create arrays initilized with default values."
   ]
  },
  {
   "cell_type": "markdown",
   "metadata": {},
   "source": [
    "#### Zeros\n",
    "Let's create an array of a given shape and size filled with zeros.  \n",
    "The [zeros creation routine](https://numpy.org/devdocs/reference/generated/numpy.zeros.html#numpy.zeros) expects a shape. It also allows for two additional parameters.\n",
    "\n",
    "numpy.zeros(shape, dtype=float, order='C')"
   ]
  },
  {
   "cell_type": "code",
   "execution_count": 22,
   "metadata": {},
   "outputs": [],
   "source": [
    "x = np.zeros((2, 3), dtype=int)"
   ]
  },
  {
   "cell_type": "code",
   "execution_count": 23,
   "metadata": {},
   "outputs": [
    {
     "data": {
      "text/plain": [
       "array([[0, 0, 0],\n",
       "       [0, 0, 0]])"
      ]
     },
     "execution_count": 23,
     "metadata": {},
     "output_type": "execute_result"
    }
   ],
   "source": [
    "x"
   ]
  },
  {
   "cell_type": "markdown",
   "metadata": {},
   "source": [
    "#### Ones\n",
    "\n",
    "Similarly, the [ones creational routine](https://numpy.org/devdocs/reference/generated/numpy.ones.html#numpy.ones) will generate an array where every element's value is one."
   ]
  },
  {
   "cell_type": "code",
   "execution_count": 24,
   "metadata": {},
   "outputs": [],
   "source": [
    "x = np.ones((4, 4))"
   ]
  },
  {
   "cell_type": "code",
   "execution_count": 25,
   "metadata": {},
   "outputs": [
    {
     "data": {
      "text/plain": [
       "array([[1., 1., 1., 1.],\n",
       "       [1., 1., 1., 1.],\n",
       "       [1., 1., 1., 1.],\n",
       "       [1., 1., 1., 1.]])"
      ]
     },
     "execution_count": 25,
     "metadata": {},
     "output_type": "execute_result"
    }
   ],
   "source": [
    "x"
   ]
  },
  {
   "cell_type": "markdown",
   "metadata": {},
   "source": [
    "#### Range\n",
    "\n",
    "The [arange creational routine](https://numpy.org/devdocs/reference/generated/numpy.arange.html#numpy.arange) is useful when we need to create an array with evenly space values within a given interval.\n",
    "\n",
    "numpy.arange([start, ]stop, [step, ]dtype=None)"
   ]
  },
  {
   "cell_type": "code",
   "execution_count": 26,
   "metadata": {},
   "outputs": [],
   "source": [
    "x = np.arange(10)\n",
    "y = np.arange(20, 32)\n",
    "z = np.arange(40, 50, 2)"
   ]
  },
  {
   "cell_type": "code",
   "execution_count": 27,
   "metadata": {},
   "outputs": [
    {
     "data": {
      "text/plain": [
       "array([0, 1, 2, 3, 4, 5, 6, 7, 8, 9])"
      ]
     },
     "execution_count": 27,
     "metadata": {},
     "output_type": "execute_result"
    }
   ],
   "source": [
    "x"
   ]
  },
  {
   "cell_type": "code",
   "execution_count": 28,
   "metadata": {},
   "outputs": [
    {
     "data": {
      "text/plain": [
       "array([20, 21, 22, 23, 24, 25, 26, 27, 28, 29, 30, 31])"
      ]
     },
     "execution_count": 28,
     "metadata": {},
     "output_type": "execute_result"
    }
   ],
   "source": [
    "y"
   ]
  },
  {
   "cell_type": "code",
   "execution_count": 29,
   "metadata": {},
   "outputs": [
    {
     "data": {
      "text/plain": [
       "array([40, 42, 44, 46, 48])"
      ]
     },
     "execution_count": 29,
     "metadata": {},
     "output_type": "execute_result"
    }
   ],
   "source": [
    "z"
   ]
  },
  {
   "cell_type": "markdown",
   "metadata": {},
   "source": [
    "<a id=\"array-manipulation-routines\"></a>\n",
    "### Array manipulation routines"
   ]
  },
  {
   "cell_type": "markdown",
   "metadata": {},
   "source": [
    "NumPy provides many [array manipulation routines](https://numpy.org/devdocs/reference/routines.array-manipulation.html#array-manipulation-routines). Let's explore some that allow us to change the shape of arrays. \n",
    "Keep in mind that often these functions return new objects rather than mutating the existing object."
   ]
  },
  {
   "cell_type": "markdown",
   "metadata": {},
   "source": [
    "#### reshape\n",
    "\n",
    "The [reshape function](https://numpy.org/devdocs/reference/generated/numpy.reshape.html#numpy.reshape) gives a new shape to an array without changing its data."
   ]
  },
  {
   "cell_type": "code",
   "execution_count": 30,
   "metadata": {},
   "outputs": [
    {
     "data": {
      "text/plain": [
       "array([[0, 1, 2, 3, 4],\n",
       "       [5, 6, 7, 8, 9]])"
      ]
     },
     "execution_count": 30,
     "metadata": {},
     "output_type": "execute_result"
    }
   ],
   "source": [
    "np.reshape(x, (2, 5))"
   ]
  },
  {
   "cell_type": "code",
   "execution_count": 31,
   "metadata": {},
   "outputs": [
    {
     "data": {
      "text/plain": [
       "array([0, 1, 2, 3, 4, 5, 6, 7, 8, 9])"
      ]
     },
     "execution_count": 31,
     "metadata": {},
     "output_type": "execute_result"
    }
   ],
   "source": [
    "x"
   ]
  },
  {
   "cell_type": "markdown",
   "metadata": {},
   "source": [
    "**Knowledge check**  \n",
    "x remains unchanged. Why? \n",
    "How can we fix it?  \n",
    "Was this behavior expected? Where is this documented?"
   ]
  },
  {
   "cell_type": "code",
   "execution_count": 32,
   "metadata": {},
   "outputs": [
    {
     "data": {
      "text/plain": [
       "array([[20, 21, 22, 23],\n",
       "       [24, 25, 26, 27],\n",
       "       [28, 29, 30, 31]])"
      ]
     },
     "execution_count": 32,
     "metadata": {},
     "output_type": "execute_result"
    }
   ],
   "source": [
    "y.reshape((3, 4))"
   ]
  },
  {
   "cell_type": "markdown",
   "metadata": {},
   "source": [
    "**Note**  \n",
    "We could also have chained the invocations to these functions in a single line."
   ]
  },
  {
   "cell_type": "code",
   "execution_count": 33,
   "metadata": {},
   "outputs": [
    {
     "data": {
      "text/plain": [
       "array([[20, 21, 22, 23],\n",
       "       [24, 25, 26, 27],\n",
       "       [28, 29, 30, 31]])"
      ]
     },
     "execution_count": 33,
     "metadata": {},
     "output_type": "execute_result"
    }
   ],
   "source": [
    "y = np.arange(20, 32).reshape((3, 4))\n",
    "y"
   ]
  },
  {
   "cell_type": "markdown",
   "metadata": {},
   "source": [
    "#### ravel\n",
    "The [ravel function](https://numpy.org/devdocs/reference/generated/numpy.ravel.html#numpy.ravel) returns a contiguous flattened array."
   ]
  },
  {
   "cell_type": "code",
   "execution_count": 34,
   "metadata": {},
   "outputs": [],
   "source": [
    "y = np.ravel(y)"
   ]
  },
  {
   "cell_type": "code",
   "execution_count": 35,
   "metadata": {},
   "outputs": [
    {
     "data": {
      "text/plain": [
       "array([20, 21, 22, 23, 24, 25, 26, 27, 28, 29, 30, 31])"
      ]
     },
     "execution_count": 35,
     "metadata": {},
     "output_type": "execute_result"
    }
   ],
   "source": [
    "y"
   ]
  },
  {
   "cell_type": "markdown",
   "metadata": {},
   "source": [
    "<a id=\"structured-arrays\"></a>\n",
    "### Structured Arrays"
   ]
  },
  {
   "cell_type": "markdown",
   "metadata": {},
   "source": [
    "Jen Barber, the Relationship Manager of the IT Department, would like to utilize Numpy for the organization's infrastructure data. But she has the need to be able to manipulate this data by field rather than by row. \n",
    "\n",
    "She has provided you with a snippet of the data structure for disaster recovery assets. \n",
    "\n",
    "| Site | UPS Count | Generator Count |\n",
    "| ---- | --------- | --------------- |\n",
    "| US   | 4         | 2               |\n",
    "| UK   | 2         | 1               |\n",
    "| IN   | 3         | 2               |\n",
    "\n",
    "\n",
    "Using this information, let's create a [structured array](https://docs.scipy.org/doc/numpy-1.10.1/user/basics.rec.html) to prove to her that her requirements can be met."
   ]
  },
  {
   "cell_type": "code",
   "execution_count": 36,
   "metadata": {},
   "outputs": [],
   "source": [
    "infrastructure = np.array( [(4, 2), (2, 1), (3, 2)], dtype=[('ups_count', 'i4'), ('gen_count', 'i4')])"
   ]
  },
  {
   "cell_type": "code",
   "execution_count": 37,
   "metadata": {},
   "outputs": [
    {
     "data": {
      "text/plain": [
       "array([(4, 2), (2, 1), (3, 2)],\n",
       "      dtype=[('ups_count', '<i4'), ('gen_count', '<i4')])"
      ]
     },
     "execution_count": 37,
     "metadata": {},
     "output_type": "execute_result"
    }
   ],
   "source": [
    "infrastructure"
   ]
  },
  {
   "cell_type": "code",
   "execution_count": 38,
   "metadata": {},
   "outputs": [
    {
     "data": {
      "text/plain": [
       "array([4, 2, 3], dtype=int32)"
      ]
     },
     "execution_count": 38,
     "metadata": {},
     "output_type": "execute_result"
    }
   ],
   "source": [
    "infrastructure['ups_count']"
   ]
  },
  {
   "cell_type": "code",
   "execution_count": 39,
   "metadata": {},
   "outputs": [
    {
     "data": {
      "text/plain": [
       "array([2, 1, 2], dtype=int32)"
      ]
     },
     "execution_count": 39,
     "metadata": {},
     "output_type": "execute_result"
    }
   ],
   "source": [
    "infrastructure['gen_count']"
   ]
  },
  {
   "cell_type": "markdown",
   "metadata": {},
   "source": [
    "<a id=\"basic-operations\"></a>\n",
    "### Basic operations"
   ]
  },
  {
   "cell_type": "markdown",
   "metadata": {},
   "source": [
    "#### Scalar Addition\n",
    "\n",
    "Jen is satisfied with the structured array. She has revealed to you that Reynholm Industries needs to improve on its site reliability uptime. In order to do so, they intend to add two additional uninterruptible power supply units as well as a generator to each site.  \n",
    "\n",
    "Perform the necessary operations to update the infrastructure object according to these requirements. "
   ]
  },
  {
   "cell_type": "code",
   "execution_count": 40,
   "metadata": {},
   "outputs": [],
   "source": [
    "infrastructure['ups_count'] += 2"
   ]
  },
  {
   "cell_type": "code",
   "execution_count": 41,
   "metadata": {},
   "outputs": [
    {
     "data": {
      "text/plain": [
       "array([(6, 2), (4, 1), (5, 2)],\n",
       "      dtype=[('ups_count', '<i4'), ('gen_count', '<i4')])"
      ]
     },
     "execution_count": 41,
     "metadata": {},
     "output_type": "execute_result"
    }
   ],
   "source": [
    "infrastructure"
   ]
  },
  {
   "cell_type": "code",
   "execution_count": 42,
   "metadata": {},
   "outputs": [],
   "source": [
    "infrastructure['gen_count'] += 1"
   ]
  },
  {
   "cell_type": "code",
   "execution_count": 43,
   "metadata": {},
   "outputs": [
    {
     "data": {
      "text/plain": [
       "array([(6, 3), (4, 2), (5, 3)],\n",
       "      dtype=[('ups_count', '<i4'), ('gen_count', '<i4')])"
      ]
     },
     "execution_count": 43,
     "metadata": {},
     "output_type": "execute_result"
    }
   ],
   "source": [
    "infrastructure"
   ]
  },
  {
   "cell_type": "markdown",
   "metadata": {},
   "source": [
    "#### Scalar Multiplication\n",
    "\n",
    "Recent site reliabilty improvements at Reynholm Industries have not gone unnoticed. The company is now growing faster than ever. Denholm Reynholm has informed the IT department that they are expecting a 20% growth in the usage of cloud hosted services. Jen Barber has once again solicited your help in estimating the total increased operational cost. For simplicity sake, you decide to estimate a 20% increase in costs. Given the current costs below, how can you use numpy to arrive at an estimate?\n",
    "\n",
    "\n",
    "| Provider | Cloud Compute | Cloud Storage | \n",
    "| -------- | ------------- | ------------- |\n",
    "| AWS      | 2,500         | 3,200         |\n",
    "| GCP      | 4,000         | 250           |\n",
    "| Azure    | 1,000         | 750           |\n",
    "\n",
    "\n",
    "Let's convert this table into an ndarray."
   ]
  },
  {
   "cell_type": "code",
   "execution_count": 44,
   "metadata": {},
   "outputs": [],
   "source": [
    "cloud_cost = np.array( [(2500, 3200), (4000, 250), (1000, 750)] )"
   ]
  },
  {
   "cell_type": "code",
   "execution_count": 45,
   "metadata": {},
   "outputs": [
    {
     "data": {
      "text/plain": [
       "array([[2500, 3200],\n",
       "       [4000,  250],\n",
       "       [1000,  750]])"
      ]
     },
     "execution_count": 45,
     "metadata": {},
     "output_type": "execute_result"
    }
   ],
   "source": [
    "cloud_cost"
   ]
  },
  {
   "cell_type": "markdown",
   "metadata": {},
   "source": [
    "We can now use scalar multiplication to acquire the estimated increased cost for each element."
   ]
  },
  {
   "cell_type": "code",
   "execution_count": 46,
   "metadata": {},
   "outputs": [
    {
     "data": {
      "text/plain": [
       "array([[500., 640.],\n",
       "       [800.,  50.],\n",
       "       [200., 150.]])"
      ]
     },
     "execution_count": 46,
     "metadata": {},
     "output_type": "execute_result"
    }
   ],
   "source": [
    "cloud_cost * .20 # element-wise operation"
   ]
  },
  {
   "cell_type": "markdown",
   "metadata": {},
   "source": [
    "We can chain this function call with the sum aggregate function to arrivate at our final result. We will cover more about aggregate functions in a later section."
   ]
  },
  {
   "cell_type": "code",
   "execution_count": 47,
   "metadata": {},
   "outputs": [
    {
     "data": {
      "text/plain": [
       "2340.0"
      ]
     },
     "execution_count": 47,
     "metadata": {},
     "output_type": "execute_result"
    }
   ],
   "source": [
    "(cloud_cost * .20).sum()"
   ]
  },
  {
   "cell_type": "markdown",
   "metadata": {},
   "source": [
    "#### Element-wise addition\n",
    "\n",
    "Denholm, the director of Reynholm Industries, is an avid believer in working as a team. As such, he's requested a single ndarray containing a sum total of each measurement for all of his teams.\n",
    "\n",
    "\n",
    "**Blue Team**\n",
    "\n",
    "| Month   | Commit Count | Issues Resolved | New Features |\n",
    "| ------- | ------------ | --------------- | ------------ |\n",
    "| Jan     | 100          | 3               | 1            |\n",
    "| Feb     | 250          | 2               | 2            |    \n",
    "| Mar     | 235          | 3               | 2            |\n",
    "\n",
    "\n",
    "**Red Team**\n",
    "\n",
    "| Month   | Commit Count | Issues Resolved | New Features |\n",
    "| ------- | ------------ | --------------- | ------------ |\n",
    "| Jan     | 75           | 1               | 0            |\n",
    "| Feb     | 137          | 1               | 1            |\n",
    "| Mar     | 200          | 2               | 2            | \n",
    "\n",
    "\n",
    "Let's start by putting the data from these tables into ndarray objects."
   ]
  },
  {
   "cell_type": "code",
   "execution_count": 48,
   "metadata": {},
   "outputs": [],
   "source": [
    "blue_team = np.array([ (100, 3, 1), (250, 2, 2), (235, 3, 2) ])"
   ]
  },
  {
   "cell_type": "code",
   "execution_count": 49,
   "metadata": {},
   "outputs": [
    {
     "data": {
      "text/plain": [
       "array([[100,   3,   1],\n",
       "       [250,   2,   2],\n",
       "       [235,   3,   2]])"
      ]
     },
     "execution_count": 49,
     "metadata": {},
     "output_type": "execute_result"
    }
   ],
   "source": [
    "blue_team"
   ]
  },
  {
   "cell_type": "code",
   "execution_count": 50,
   "metadata": {},
   "outputs": [],
   "source": [
    "red_team = np.array([ (75, 1, 0), (137, 1, 1), (200, 2, 2) ])"
   ]
  },
  {
   "cell_type": "code",
   "execution_count": 51,
   "metadata": {},
   "outputs": [
    {
     "data": {
      "text/plain": [
       "array([[ 75,   1,   0],\n",
       "       [137,   1,   1],\n",
       "       [200,   2,   2]])"
      ]
     },
     "execution_count": 51,
     "metadata": {},
     "output_type": "execute_result"
    }
   ],
   "source": [
    "red_team"
   ]
  },
  {
   "cell_type": "code",
   "execution_count": 52,
   "metadata": {},
   "outputs": [
    {
     "data": {
      "text/plain": [
       "array([[175,   4,   1],\n",
       "       [387,   3,   3],\n",
       "       [435,   5,   4]])"
      ]
     },
     "execution_count": 52,
     "metadata": {},
     "output_type": "execute_result"
    }
   ],
   "source": [
    "blue_team + red_team"
   ]
  },
  {
   "cell_type": "markdown",
   "metadata": {},
   "source": [
    "#### Element-wise subtraction\n",
    "\n",
    "After some consideration, Denholm has decided that he would like to get a better picture of how each team performed against their initial target.\n",
    "\n",
    "**Q1 Target For Each Team**\n",
    "\n",
    "| Month   | Commit Count | Issues Resolved | New Features |\n",
    "| ------- | ------------ | --------------- | ------------ |\n",
    "| Jan     | 100          | 1               | 2            |\n",
    "| Feb     | 150          | 2               | 3            |\n",
    "| Mar     | 200          | 3               | 4            | "
   ]
  },
  {
   "cell_type": "code",
   "execution_count": 53,
   "metadata": {},
   "outputs": [],
   "source": [
    "q1_target = np.array([ (100, 1, 2), (150, 2, 3), (200, 3, 4) ])"
   ]
  },
  {
   "cell_type": "code",
   "execution_count": 54,
   "metadata": {},
   "outputs": [
    {
     "data": {
      "text/plain": [
       "array([[100,   1,   2],\n",
       "       [150,   2,   3],\n",
       "       [200,   3,   4]])"
      ]
     },
     "execution_count": 54,
     "metadata": {},
     "output_type": "execute_result"
    }
   ],
   "source": [
    "q1_target"
   ]
  },
  {
   "cell_type": "code",
   "execution_count": 55,
   "metadata": {},
   "outputs": [
    {
     "data": {
      "text/plain": [
       "array([[  0,   2,  -1],\n",
       "       [100,   0,  -1],\n",
       "       [ 35,   0,  -2]])"
      ]
     },
     "execution_count": 55,
     "metadata": {},
     "output_type": "execute_result"
    }
   ],
   "source": [
    "blue_team - q1_target"
   ]
  },
  {
   "cell_type": "code",
   "execution_count": 56,
   "metadata": {},
   "outputs": [
    {
     "data": {
      "text/plain": [
       "array([[-25,   0,  -2],\n",
       "       [-13,  -1,  -2],\n",
       "       [  0,  -1,  -2]])"
      ]
     },
     "execution_count": 56,
     "metadata": {},
     "output_type": "execute_result"
    }
   ],
   "source": [
    "red_team - q1_target"
   ]
  },
  {
   "cell_type": "markdown",
   "metadata": {},
   "source": [
    "**Thought expirement**  \n",
    "Let's pretend for a moment that the measurements taken here are:  \n",
    "\n",
    "a) actually meaningful towards the company's end goals of happier customers, higher profits, and an engaged staff.  \n",
    "b) directly associated to a healhty balance of quality and produtivity rather than the result of metric fixation.  \n",
    "\n",
    "Now that you have suspended disbelief for a moment, which team had the best performance?"
   ]
  },
  {
   "cell_type": "markdown",
   "metadata": {},
   "source": [
    "#### Element-wise Multiplication\n",
    "\n",
    "Matrix Multiplication Resources:  \n",
    "[Wikipedia - Matrix Multiplication](https://en.wikipedia.org/wiki/Matrix_multiplication)  \n",
    "[Khan Academy - Matrix vector products](https://www.khanacademy.org/math/linear-algebra/vectors-and-spaces/null-column-space/v/matrix-vector-products?modal=1)\n",
    "\n",
    "\n"
   ]
  },
  {
   "cell_type": "markdown",
   "metadata": {},
   "source": [
    "During a manager's meeting, word has spread that NumpPy is an incredibly useful tool. The marketing department is preparing for a major recruiting event and they would like to make sure they have enough swag to pass around to potential future employees.\n",
    "\n",
    "Using Matrix multiplication, we can help them evaluate what they currently have in stock.\n",
    "\n",
    "**Swag Inventory**\n",
    "\n",
    "| Product     | Pallets In Storage |\n",
    "| ----------- | ------------------ |\n",
    "| Coffee Mugs | 2                  | \n",
    "| Mouse Mats  | 3                  |\n",
    "| Posters     | 1                  |\n",
    "\n",
    "\n",
    "\n",
    "| Product     | Units Per Pallet |\n",
    "| ----------- | ---------------- |\n",
    "| Coffee Mugs | 8,000            |\n",
    "| Mouse Mats  | 20,000           |\n",
    "| Stickers    | 150,000          |\n",
    "\n"
   ]
  },
  {
   "cell_type": "code",
   "execution_count": 57,
   "metadata": {},
   "outputs": [],
   "source": [
    "A = np.array([ (2, 3, 1)])"
   ]
  },
  {
   "cell_type": "code",
   "execution_count": 58,
   "metadata": {},
   "outputs": [
    {
     "data": {
      "text/plain": [
       "array([[2, 3, 1]])"
      ]
     },
     "execution_count": 58,
     "metadata": {},
     "output_type": "execute_result"
    }
   ],
   "source": [
    "A"
   ]
  },
  {
   "cell_type": "code",
   "execution_count": 59,
   "metadata": {},
   "outputs": [],
   "source": [
    "B = np.array([ (8000, 20000, 150000) ])"
   ]
  },
  {
   "cell_type": "code",
   "execution_count": 60,
   "metadata": {},
   "outputs": [
    {
     "data": {
      "text/plain": [
       "array([[  8000,  20000, 150000]])"
      ]
     },
     "execution_count": 60,
     "metadata": {},
     "output_type": "execute_result"
    }
   ],
   "source": [
    "B"
   ]
  },
  {
   "cell_type": "code",
   "execution_count": 61,
   "metadata": {},
   "outputs": [],
   "source": [
    "C = A * B"
   ]
  },
  {
   "cell_type": "code",
   "execution_count": 62,
   "metadata": {},
   "outputs": [
    {
     "data": {
      "text/plain": [
       "array([[ 16000,  60000, 150000]])"
      ]
     },
     "execution_count": 62,
     "metadata": {},
     "output_type": "execute_result"
    }
   ],
   "source": [
    "C"
   ]
  },
  {
   "cell_type": "markdown",
   "metadata": {},
   "source": [
    "<a id=\"universal-functions\"></a>\n",
    "### Universal Functions\n",
    "\n",
    "A [universal functions](https://numpy.org/doc/1.17/reference/ufuncs.html) (or ufunc for short) is a function that operates on ndarrays in an element-by-element fashion."
   ]
  },
  {
   "cell_type": "markdown",
   "metadata": {},
   "source": [
    "\n",
    "**Required Units**\n",
    "\n",
    "| Product     | Units Per Pallet |\n",
    "| ----------- | ---------------- |\n",
    "| Coffee Mugs | 30,000           |\n",
    "| Mouse Mats  | 50,000           |\n",
    "| Stickers    | 150,000          |\n"
   ]
  },
  {
   "cell_type": "code",
   "execution_count": 63,
   "metadata": {},
   "outputs": [],
   "source": [
    "R = np.array([30000, 10000, 150000])"
   ]
  },
  {
   "cell_type": "code",
   "execution_count": 64,
   "metadata": {},
   "outputs": [
    {
     "data": {
      "text/plain": [
       "array([ 30000,  10000, 150000])"
      ]
     },
     "execution_count": 64,
     "metadata": {},
     "output_type": "execute_result"
    }
   ],
   "source": [
    "R"
   ]
  },
  {
   "cell_type": "code",
   "execution_count": 65,
   "metadata": {},
   "outputs": [
    {
     "data": {
      "text/plain": [
       "array([[False,  True,  True]])"
      ]
     },
     "execution_count": 65,
     "metadata": {},
     "output_type": "execute_result"
    }
   ],
   "source": [
    "np.greater_equal(C, R)"
   ]
  },
  {
   "cell_type": "code",
   "execution_count": null,
   "metadata": {},
   "outputs": [],
   "source": []
  }
 ],
 "metadata": {
  "kernelspec": {
   "display_name": "Python 3",
   "language": "python",
   "name": "python3"
  },
  "language_info": {
   "codemirror_mode": {
    "name": "ipython",
    "version": 3
   },
   "file_extension": ".py",
   "mimetype": "text/x-python",
   "name": "python",
   "nbconvert_exporter": "python",
   "pygments_lexer": "ipython3",
   "version": "3.7.4"
  }
 },
 "nbformat": 4,
 "nbformat_minor": 2
}
