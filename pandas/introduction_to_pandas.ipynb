{
  "cells": [
    {
      "cell_type": "markdown",
      "source": [
        "# Introduction to Pandas"
      ],
      "metadata": {}
    },
    {
      "cell_type": "markdown",
      "source": [
        "### Outline\n",
        "* [Getting started](#getting-started)\n",
        "* [Data structures](#data-structures)\n",
        "    * Series\n",
        "    * DataFrame\n",
        "* [Series overview](#series-overview)\n",
        "    * Creating \n",
        "    * index\n",
        "    * values\n",
        "* [DataFrame overview](#dataframe-overview)\n",
        "    * Creating empty DataFrame\n",
        "    * Creating a DataFrame from a Python dict\n",
        "    * Adding columns\n",
        "    * Appending rows to the DataFrame\n",
        "* [DataFrame characteristics](#dataframe-characteristics)\n",
        "    * shape\n",
        "    * describe \n",
        "    * head\n",
        "    * tail\n",
        "* [DataFrame indexing](#dataframe-indexing)\n",
        "    * Using iloc to select single row\n",
        "    * Using iloc to select multiple rows (slicing)\n",
        "    * Using iloc to select multiple rows with steps (slicing with steps)\n",
        "    * Setting an index\n",
        "    * Using loc to select a single row\n",
        "* [Conditionals](#conditionals)\n",
        "* [Resources](#resources)"
      ],
      "metadata": {}
    },
    {
      "cell_type": "markdown",
      "source": [
        "<a id=\"getting-started\"></a>\n",
        "### Getting Started\n",
        "\n",
        "By convention, when imported pandas is typically aliased as pd."
      ],
      "metadata": {}
    },
    {
      "cell_type": "code",
      "source": [
        "import pandas as pd"
      ],
      "outputs": [],
      "execution_count": 1,
      "metadata": {}
    },
    {
      "cell_type": "markdown",
      "source": [
        "<a id=\"data-structures\"></a>\n",
        "### Data Structures\n",
        "\n",
        "**Series**\n",
        "Series are designed to accomodate a sequence of one-dimentional data.  \n",
        "\n",
        "**DataFrame**\n",
        "Dataframes are designed to contain cases with several dimensions."
      ],
      "metadata": {}
    },
    {
      "cell_type": "markdown",
      "source": [
        "<a id=\"series-overview\"></a>\n",
        "### Series Overview\n",
        "\n",
        "[Series](https://pandas.pydata.org/pandas-docs/stable/reference/series.html) is a one-dimensional labeled array capable of holding any data type (integers, strings, floating point numbers, Python objects, etc.)."
      ],
      "metadata": {}
    },
    {
      "cell_type": "code",
      "source": [
        "s = pd.Series([1, 2, 3, 4])"
      ],
      "outputs": [],
      "execution_count": 2,
      "metadata": {}
    },
    {
      "cell_type": "code",
      "source": [
        "s"
      ],
      "outputs": [
        {
          "output_type": "execute_result",
          "execution_count": 3,
          "data": {
            "text/plain": [
              "0    1\n",
              "1    2\n",
              "2    3\n",
              "3    4\n",
              "dtype: int64"
            ]
          },
          "metadata": {}
        }
      ],
      "execution_count": 3,
      "metadata": {}
    },
    {
      "cell_type": "code",
      "source": [
        "s.index"
      ],
      "outputs": [
        {
          "output_type": "execute_result",
          "execution_count": 4,
          "data": {
            "text/plain": [
              "RangeIndex(start=0, stop=4, step=1)"
            ]
          },
          "metadata": {}
        }
      ],
      "execution_count": 4,
      "metadata": {}
    },
    {
      "cell_type": "code",
      "source": [
        "type(s.index)"
      ],
      "outputs": [
        {
          "output_type": "execute_result",
          "execution_count": 5,
          "data": {
            "text/plain": [
              "pandas.core.indexes.range.RangeIndex"
            ]
          },
          "metadata": {}
        }
      ],
      "execution_count": 5,
      "metadata": {}
    },
    {
      "cell_type": "code",
      "source": [
        "s.values"
      ],
      "outputs": [
        {
          "output_type": "execute_result",
          "execution_count": 6,
          "data": {
            "text/plain": [
              "array([1, 2, 3, 4])"
            ]
          },
          "metadata": {}
        }
      ],
      "execution_count": 6,
      "metadata": {}
    },
    {
      "cell_type": "code",
      "source": [
        "# the values in a Series is simply a numpy ndarray\n",
        "type(s.values)"
      ],
      "outputs": [
        {
          "output_type": "execute_result",
          "execution_count": 7,
          "data": {
            "text/plain": [
              "numpy.ndarray"
            ]
          },
          "metadata": {}
        }
      ],
      "execution_count": 7,
      "metadata": {}
    },
    {
      "cell_type": "markdown",
      "source": [
        "<a id=\"dataframe-overview\"></a>\n",
        "### DataFrame Overview\n",
        "\n",
        "[DataFrame](https://pandas.pydata.org/pandas-docs/stable/reference/frame.html) is a 2-dimensional labeled data structure with columns of potentially different types."
      ],
      "metadata": {}
    },
    {
      "cell_type": "markdown",
      "source": [
        "**Creating an empty DataFrame**"
      ],
      "metadata": {}
    },
    {
      "cell_type": "code",
      "source": [
        "f1_2019_races = pd.DataFrame()"
      ],
      "outputs": [],
      "execution_count": 8,
      "metadata": {}
    },
    {
      "cell_type": "code",
      "source": [
        "f1_2019_races"
      ],
      "outputs": [
        {
          "output_type": "execute_result",
          "execution_count": 9,
          "data": {
            "text/html": [
              "<div>\n",
              "<style scoped>\n",
              "    .dataframe tbody tr th:only-of-type {\n",
              "        vertical-align: middle;\n",
              "    }\n",
              "\n",
              "    .dataframe tbody tr th {\n",
              "        vertical-align: top;\n",
              "    }\n",
              "\n",
              "    .dataframe thead th {\n",
              "        text-align: right;\n",
              "    }\n",
              "</style>\n",
              "<table border=\"1\" class=\"dataframe\">\n",
              "  <thead>\n",
              "    <tr style=\"text-align: right;\">\n",
              "      <th></th>\n",
              "    </tr>\n",
              "  </thead>\n",
              "  <tbody>\n",
              "  </tbody>\n",
              "</table>\n",
              "</div>"
            ],
            "text/plain": [
              "Empty DataFrame\n",
              "Columns: []\n",
              "Index: []"
            ]
          },
          "metadata": {}
        }
      ],
      "execution_count": 9,
      "metadata": {}
    },
    {
      "cell_type": "markdown",
      "source": [
        "**Creating a DataFrame from a Python dict**\n",
        "\n",
        "[data source](https://www.formula1.com/en/results.html/2019/races.html)"
      ],
      "metadata": {}
    },
    {
      "cell_type": "code",
      "source": [
        "races_dict = {\n",
        "    \"grand_prix\": [ \n",
        "        'Australia', 'Bahrain', 'China', \n",
        "        'Azerbaijan', 'Spain', 'Monaco', \n",
        "        'Canada', 'France', 'Austria', \n",
        "        'Great Britain', 'Germany', 'Hungary', \n",
        "        'Belgium', 'Italy', 'Singapore', \n",
        "        'Russia', 'Japan', 'Mexico', \n",
        "        'United States', 'Brazil',\n",
        "    ],\n",
        "    \"laps\": [\n",
        "        58, 57, 56,\n",
        "        51, 66, 78,\n",
        "        70, 53, 71, \n",
        "        52, 64, 70,\n",
        "        44, 53, 61,\n",
        "        53, 52, 71, \n",
        "        56, 71, \n",
        "    ]\n",
        "}"
      ],
      "outputs": [],
      "execution_count": 10,
      "metadata": {}
    },
    {
      "cell_type": "code",
      "source": [
        "f1_2019_races = pd.DataFrame(races_dict)"
      ],
      "outputs": [],
      "execution_count": 11,
      "metadata": {}
    },
    {
      "cell_type": "code",
      "source": [
        "f1_2019_races"
      ],
      "outputs": [
        {
          "output_type": "execute_result",
          "execution_count": 12,
          "data": {
            "text/html": [
              "<div>\n",
              "<style scoped>\n",
              "    .dataframe tbody tr th:only-of-type {\n",
              "        vertical-align: middle;\n",
              "    }\n",
              "\n",
              "    .dataframe tbody tr th {\n",
              "        vertical-align: top;\n",
              "    }\n",
              "\n",
              "    .dataframe thead th {\n",
              "        text-align: right;\n",
              "    }\n",
              "</style>\n",
              "<table border=\"1\" class=\"dataframe\">\n",
              "  <thead>\n",
              "    <tr style=\"text-align: right;\">\n",
              "      <th></th>\n",
              "      <th>grand_prix</th>\n",
              "      <th>laps</th>\n",
              "    </tr>\n",
              "  </thead>\n",
              "  <tbody>\n",
              "    <tr>\n",
              "      <td>0</td>\n",
              "      <td>Australia</td>\n",
              "      <td>58</td>\n",
              "    </tr>\n",
              "    <tr>\n",
              "      <td>1</td>\n",
              "      <td>Bahrain</td>\n",
              "      <td>57</td>\n",
              "    </tr>\n",
              "    <tr>\n",
              "      <td>2</td>\n",
              "      <td>China</td>\n",
              "      <td>56</td>\n",
              "    </tr>\n",
              "    <tr>\n",
              "      <td>3</td>\n",
              "      <td>Azerbaijan</td>\n",
              "      <td>51</td>\n",
              "    </tr>\n",
              "    <tr>\n",
              "      <td>4</td>\n",
              "      <td>Spain</td>\n",
              "      <td>66</td>\n",
              "    </tr>\n",
              "    <tr>\n",
              "      <td>5</td>\n",
              "      <td>Monaco</td>\n",
              "      <td>78</td>\n",
              "    </tr>\n",
              "    <tr>\n",
              "      <td>6</td>\n",
              "      <td>Canada</td>\n",
              "      <td>70</td>\n",
              "    </tr>\n",
              "    <tr>\n",
              "      <td>7</td>\n",
              "      <td>France</td>\n",
              "      <td>53</td>\n",
              "    </tr>\n",
              "    <tr>\n",
              "      <td>8</td>\n",
              "      <td>Austria</td>\n",
              "      <td>71</td>\n",
              "    </tr>\n",
              "    <tr>\n",
              "      <td>9</td>\n",
              "      <td>Great Britain</td>\n",
              "      <td>52</td>\n",
              "    </tr>\n",
              "    <tr>\n",
              "      <td>10</td>\n",
              "      <td>Germany</td>\n",
              "      <td>64</td>\n",
              "    </tr>\n",
              "    <tr>\n",
              "      <td>11</td>\n",
              "      <td>Hungary</td>\n",
              "      <td>70</td>\n",
              "    </tr>\n",
              "    <tr>\n",
              "      <td>12</td>\n",
              "      <td>Belgium</td>\n",
              "      <td>44</td>\n",
              "    </tr>\n",
              "    <tr>\n",
              "      <td>13</td>\n",
              "      <td>Italy</td>\n",
              "      <td>53</td>\n",
              "    </tr>\n",
              "    <tr>\n",
              "      <td>14</td>\n",
              "      <td>Singapore</td>\n",
              "      <td>61</td>\n",
              "    </tr>\n",
              "    <tr>\n",
              "      <td>15</td>\n",
              "      <td>Russia</td>\n",
              "      <td>53</td>\n",
              "    </tr>\n",
              "    <tr>\n",
              "      <td>16</td>\n",
              "      <td>Japan</td>\n",
              "      <td>52</td>\n",
              "    </tr>\n",
              "    <tr>\n",
              "      <td>17</td>\n",
              "      <td>Mexico</td>\n",
              "      <td>71</td>\n",
              "    </tr>\n",
              "    <tr>\n",
              "      <td>18</td>\n",
              "      <td>United States</td>\n",
              "      <td>56</td>\n",
              "    </tr>\n",
              "    <tr>\n",
              "      <td>19</td>\n",
              "      <td>Brazil</td>\n",
              "      <td>71</td>\n",
              "    </tr>\n",
              "  </tbody>\n",
              "</table>\n",
              "</div>"
            ],
            "text/plain": [
              "       grand_prix  laps\n",
              "0       Australia    58\n",
              "1         Bahrain    57\n",
              "2           China    56\n",
              "3      Azerbaijan    51\n",
              "4           Spain    66\n",
              "5          Monaco    78\n",
              "6          Canada    70\n",
              "7          France    53\n",
              "8         Austria    71\n",
              "9   Great Britain    52\n",
              "10        Germany    64\n",
              "11        Hungary    70\n",
              "12        Belgium    44\n",
              "13          Italy    53\n",
              "14      Singapore    61\n",
              "15         Russia    53\n",
              "16          Japan    52\n",
              "17         Mexico    71\n",
              "18  United States    56\n",
              "19         Brazil    71"
            ]
          },
          "metadata": {}
        }
      ],
      "execution_count": 12,
      "metadata": {}
    },
    {
      "cell_type": "markdown",
      "source": [
        "**Adding columns to a DataFrame**"
      ],
      "metadata": {}
    },
    {
      "cell_type": "code",
      "source": [
        "f1_2019_races['winner'] = [\n",
        "    'Valtteri Bottas', 'Lewis Hamilton', 'Lewis Hamilton',\n",
        "    'Valtteri Bottas', 'Lewis Hamilton', 'Lewis Hamilton',\n",
        "    'Lewis Hamilton', 'Lewis Hamilton', 'Max Verstappen',\n",
        "    'Lewis Hamilton', 'Max Verstappen', 'Lewis Hamilton',\n",
        "    'Charles Leclerc', 'Charles Leclerc', 'Sebastian Vettel',\n",
        "    'Lewis Hamilton', 'Valtteri Bottas', 'Lewis Hamilton',\n",
        "    'Valtteri Bottas', 'Max Verstappen',\n",
        "]"
      ],
      "outputs": [],
      "execution_count": 13,
      "metadata": {}
    },
    {
      "cell_type": "code",
      "source": [
        "f1_2019_races['car'] = [\n",
        "    'MERCEDES', 'MERCEDES', 'MERCEDES', \n",
        "    'MERCEDES', 'MERCEDES', 'MERCEDES', \n",
        "    'MERCEDES', 'MERCEDES', 'RED BULL RACING HONDA',\n",
        "    'MERCEDES', 'RED BULL RACING HONDA', 'MERCEDES',\n",
        "    'FERRARI', 'FERRARI', 'FERRARI', \n",
        "    'MERCEDES', 'MERCEDES', 'MERCEDES', \n",
        "    'MERCEDES', 'RED BULL RACING HONDA'\n",
        "]"
      ],
      "outputs": [],
      "execution_count": 14,
      "metadata": {}
    },
    {
      "cell_type": "code",
      "source": [
        "f1_2019_races"
      ],
      "outputs": [
        {
          "output_type": "execute_result",
          "execution_count": 15,
          "data": {
            "text/html": [
              "<div>\n",
              "<style scoped>\n",
              "    .dataframe tbody tr th:only-of-type {\n",
              "        vertical-align: middle;\n",
              "    }\n",
              "\n",
              "    .dataframe tbody tr th {\n",
              "        vertical-align: top;\n",
              "    }\n",
              "\n",
              "    .dataframe thead th {\n",
              "        text-align: right;\n",
              "    }\n",
              "</style>\n",
              "<table border=\"1\" class=\"dataframe\">\n",
              "  <thead>\n",
              "    <tr style=\"text-align: right;\">\n",
              "      <th></th>\n",
              "      <th>grand_prix</th>\n",
              "      <th>laps</th>\n",
              "      <th>winner</th>\n",
              "      <th>car</th>\n",
              "    </tr>\n",
              "  </thead>\n",
              "  <tbody>\n",
              "    <tr>\n",
              "      <td>0</td>\n",
              "      <td>Australia</td>\n",
              "      <td>58</td>\n",
              "      <td>Valtteri Bottas</td>\n",
              "      <td>MERCEDES</td>\n",
              "    </tr>\n",
              "    <tr>\n",
              "      <td>1</td>\n",
              "      <td>Bahrain</td>\n",
              "      <td>57</td>\n",
              "      <td>Lewis Hamilton</td>\n",
              "      <td>MERCEDES</td>\n",
              "    </tr>\n",
              "    <tr>\n",
              "      <td>2</td>\n",
              "      <td>China</td>\n",
              "      <td>56</td>\n",
              "      <td>Lewis Hamilton</td>\n",
              "      <td>MERCEDES</td>\n",
              "    </tr>\n",
              "    <tr>\n",
              "      <td>3</td>\n",
              "      <td>Azerbaijan</td>\n",
              "      <td>51</td>\n",
              "      <td>Valtteri Bottas</td>\n",
              "      <td>MERCEDES</td>\n",
              "    </tr>\n",
              "    <tr>\n",
              "      <td>4</td>\n",
              "      <td>Spain</td>\n",
              "      <td>66</td>\n",
              "      <td>Lewis Hamilton</td>\n",
              "      <td>MERCEDES</td>\n",
              "    </tr>\n",
              "    <tr>\n",
              "      <td>5</td>\n",
              "      <td>Monaco</td>\n",
              "      <td>78</td>\n",
              "      <td>Lewis Hamilton</td>\n",
              "      <td>MERCEDES</td>\n",
              "    </tr>\n",
              "    <tr>\n",
              "      <td>6</td>\n",
              "      <td>Canada</td>\n",
              "      <td>70</td>\n",
              "      <td>Lewis Hamilton</td>\n",
              "      <td>MERCEDES</td>\n",
              "    </tr>\n",
              "    <tr>\n",
              "      <td>7</td>\n",
              "      <td>France</td>\n",
              "      <td>53</td>\n",
              "      <td>Lewis Hamilton</td>\n",
              "      <td>MERCEDES</td>\n",
              "    </tr>\n",
              "    <tr>\n",
              "      <td>8</td>\n",
              "      <td>Austria</td>\n",
              "      <td>71</td>\n",
              "      <td>Max Verstappen</td>\n",
              "      <td>RED BULL RACING HONDA</td>\n",
              "    </tr>\n",
              "    <tr>\n",
              "      <td>9</td>\n",
              "      <td>Great Britain</td>\n",
              "      <td>52</td>\n",
              "      <td>Lewis Hamilton</td>\n",
              "      <td>MERCEDES</td>\n",
              "    </tr>\n",
              "    <tr>\n",
              "      <td>10</td>\n",
              "      <td>Germany</td>\n",
              "      <td>64</td>\n",
              "      <td>Max Verstappen</td>\n",
              "      <td>RED BULL RACING HONDA</td>\n",
              "    </tr>\n",
              "    <tr>\n",
              "      <td>11</td>\n",
              "      <td>Hungary</td>\n",
              "      <td>70</td>\n",
              "      <td>Lewis Hamilton</td>\n",
              "      <td>MERCEDES</td>\n",
              "    </tr>\n",
              "    <tr>\n",
              "      <td>12</td>\n",
              "      <td>Belgium</td>\n",
              "      <td>44</td>\n",
              "      <td>Charles Leclerc</td>\n",
              "      <td>FERRARI</td>\n",
              "    </tr>\n",
              "    <tr>\n",
              "      <td>13</td>\n",
              "      <td>Italy</td>\n",
              "      <td>53</td>\n",
              "      <td>Charles Leclerc</td>\n",
              "      <td>FERRARI</td>\n",
              "    </tr>\n",
              "    <tr>\n",
              "      <td>14</td>\n",
              "      <td>Singapore</td>\n",
              "      <td>61</td>\n",
              "      <td>Sebastian Vettel</td>\n",
              "      <td>FERRARI</td>\n",
              "    </tr>\n",
              "    <tr>\n",
              "      <td>15</td>\n",
              "      <td>Russia</td>\n",
              "      <td>53</td>\n",
              "      <td>Lewis Hamilton</td>\n",
              "      <td>MERCEDES</td>\n",
              "    </tr>\n",
              "    <tr>\n",
              "      <td>16</td>\n",
              "      <td>Japan</td>\n",
              "      <td>52</td>\n",
              "      <td>Valtteri Bottas</td>\n",
              "      <td>MERCEDES</td>\n",
              "    </tr>\n",
              "    <tr>\n",
              "      <td>17</td>\n",
              "      <td>Mexico</td>\n",
              "      <td>71</td>\n",
              "      <td>Lewis Hamilton</td>\n",
              "      <td>MERCEDES</td>\n",
              "    </tr>\n",
              "    <tr>\n",
              "      <td>18</td>\n",
              "      <td>United States</td>\n",
              "      <td>56</td>\n",
              "      <td>Valtteri Bottas</td>\n",
              "      <td>MERCEDES</td>\n",
              "    </tr>\n",
              "    <tr>\n",
              "      <td>19</td>\n",
              "      <td>Brazil</td>\n",
              "      <td>71</td>\n",
              "      <td>Max Verstappen</td>\n",
              "      <td>RED BULL RACING HONDA</td>\n",
              "    </tr>\n",
              "  </tbody>\n",
              "</table>\n",
              "</div>"
            ],
            "text/plain": [
              "       grand_prix  laps            winner                    car\n",
              "0       Australia    58   Valtteri Bottas               MERCEDES\n",
              "1         Bahrain    57    Lewis Hamilton               MERCEDES\n",
              "2           China    56    Lewis Hamilton               MERCEDES\n",
              "3      Azerbaijan    51   Valtteri Bottas               MERCEDES\n",
              "4           Spain    66    Lewis Hamilton               MERCEDES\n",
              "5          Monaco    78    Lewis Hamilton               MERCEDES\n",
              "6          Canada    70    Lewis Hamilton               MERCEDES\n",
              "7          France    53    Lewis Hamilton               MERCEDES\n",
              "8         Austria    71    Max Verstappen  RED BULL RACING HONDA\n",
              "9   Great Britain    52    Lewis Hamilton               MERCEDES\n",
              "10        Germany    64    Max Verstappen  RED BULL RACING HONDA\n",
              "11        Hungary    70    Lewis Hamilton               MERCEDES\n",
              "12        Belgium    44   Charles Leclerc                FERRARI\n",
              "13          Italy    53   Charles Leclerc                FERRARI\n",
              "14      Singapore    61  Sebastian Vettel                FERRARI\n",
              "15         Russia    53    Lewis Hamilton               MERCEDES\n",
              "16          Japan    52   Valtteri Bottas               MERCEDES\n",
              "17         Mexico    71    Lewis Hamilton               MERCEDES\n",
              "18  United States    56   Valtteri Bottas               MERCEDES\n",
              "19         Brazil    71    Max Verstappen  RED BULL RACING HONDA"
            ]
          },
          "metadata": {}
        }
      ],
      "execution_count": 15,
      "metadata": {}
    },
    {
      "cell_type": "code",
      "source": [
        "# A column in a DataFrame is simply a Series \n",
        "type(f1_2019_races['grand_prix'])"
      ],
      "outputs": [
        {
          "output_type": "execute_result",
          "execution_count": 16,
          "data": {
            "text/plain": [
              "pandas.core.series.Series"
            ]
          },
          "metadata": {}
        }
      ],
      "execution_count": 16,
      "metadata": {}
    },
    {
      "cell_type": "markdown",
      "source": [
        "**Appending rows to the DataFrame**"
      ],
      "metadata": {}
    },
    {
      "cell_type": "code",
      "source": [
        "abu_dhabi_race = pd.Series(['Abu Dhabi', 55, 'Lewis Hamilton', 'MERCEDES'],\n",
        "                           index=['grand_prix', 'laps', 'winner', 'car'])"
      ],
      "outputs": [],
      "execution_count": 17,
      "metadata": {}
    },
    {
      "cell_type": "code",
      "source": [
        "f1_2019_races = f1_2019_races.append(abu_dhabi_race, ignore_index=True)"
      ],
      "outputs": [],
      "execution_count": 18,
      "metadata": {}
    },
    {
      "cell_type": "code",
      "source": [
        "f1_2019_races"
      ],
      "outputs": [
        {
          "output_type": "execute_result",
          "execution_count": 19,
          "data": {
            "text/html": [
              "<div>\n",
              "<style scoped>\n",
              "    .dataframe tbody tr th:only-of-type {\n",
              "        vertical-align: middle;\n",
              "    }\n",
              "\n",
              "    .dataframe tbody tr th {\n",
              "        vertical-align: top;\n",
              "    }\n",
              "\n",
              "    .dataframe thead th {\n",
              "        text-align: right;\n",
              "    }\n",
              "</style>\n",
              "<table border=\"1\" class=\"dataframe\">\n",
              "  <thead>\n",
              "    <tr style=\"text-align: right;\">\n",
              "      <th></th>\n",
              "      <th>grand_prix</th>\n",
              "      <th>laps</th>\n",
              "      <th>winner</th>\n",
              "      <th>car</th>\n",
              "    </tr>\n",
              "  </thead>\n",
              "  <tbody>\n",
              "    <tr>\n",
              "      <td>0</td>\n",
              "      <td>Australia</td>\n",
              "      <td>58</td>\n",
              "      <td>Valtteri Bottas</td>\n",
              "      <td>MERCEDES</td>\n",
              "    </tr>\n",
              "    <tr>\n",
              "      <td>1</td>\n",
              "      <td>Bahrain</td>\n",
              "      <td>57</td>\n",
              "      <td>Lewis Hamilton</td>\n",
              "      <td>MERCEDES</td>\n",
              "    </tr>\n",
              "    <tr>\n",
              "      <td>2</td>\n",
              "      <td>China</td>\n",
              "      <td>56</td>\n",
              "      <td>Lewis Hamilton</td>\n",
              "      <td>MERCEDES</td>\n",
              "    </tr>\n",
              "    <tr>\n",
              "      <td>3</td>\n",
              "      <td>Azerbaijan</td>\n",
              "      <td>51</td>\n",
              "      <td>Valtteri Bottas</td>\n",
              "      <td>MERCEDES</td>\n",
              "    </tr>\n",
              "    <tr>\n",
              "      <td>4</td>\n",
              "      <td>Spain</td>\n",
              "      <td>66</td>\n",
              "      <td>Lewis Hamilton</td>\n",
              "      <td>MERCEDES</td>\n",
              "    </tr>\n",
              "    <tr>\n",
              "      <td>5</td>\n",
              "      <td>Monaco</td>\n",
              "      <td>78</td>\n",
              "      <td>Lewis Hamilton</td>\n",
              "      <td>MERCEDES</td>\n",
              "    </tr>\n",
              "    <tr>\n",
              "      <td>6</td>\n",
              "      <td>Canada</td>\n",
              "      <td>70</td>\n",
              "      <td>Lewis Hamilton</td>\n",
              "      <td>MERCEDES</td>\n",
              "    </tr>\n",
              "    <tr>\n",
              "      <td>7</td>\n",
              "      <td>France</td>\n",
              "      <td>53</td>\n",
              "      <td>Lewis Hamilton</td>\n",
              "      <td>MERCEDES</td>\n",
              "    </tr>\n",
              "    <tr>\n",
              "      <td>8</td>\n",
              "      <td>Austria</td>\n",
              "      <td>71</td>\n",
              "      <td>Max Verstappen</td>\n",
              "      <td>RED BULL RACING HONDA</td>\n",
              "    </tr>\n",
              "    <tr>\n",
              "      <td>9</td>\n",
              "      <td>Great Britain</td>\n",
              "      <td>52</td>\n",
              "      <td>Lewis Hamilton</td>\n",
              "      <td>MERCEDES</td>\n",
              "    </tr>\n",
              "    <tr>\n",
              "      <td>10</td>\n",
              "      <td>Germany</td>\n",
              "      <td>64</td>\n",
              "      <td>Max Verstappen</td>\n",
              "      <td>RED BULL RACING HONDA</td>\n",
              "    </tr>\n",
              "    <tr>\n",
              "      <td>11</td>\n",
              "      <td>Hungary</td>\n",
              "      <td>70</td>\n",
              "      <td>Lewis Hamilton</td>\n",
              "      <td>MERCEDES</td>\n",
              "    </tr>\n",
              "    <tr>\n",
              "      <td>12</td>\n",
              "      <td>Belgium</td>\n",
              "      <td>44</td>\n",
              "      <td>Charles Leclerc</td>\n",
              "      <td>FERRARI</td>\n",
              "    </tr>\n",
              "    <tr>\n",
              "      <td>13</td>\n",
              "      <td>Italy</td>\n",
              "      <td>53</td>\n",
              "      <td>Charles Leclerc</td>\n",
              "      <td>FERRARI</td>\n",
              "    </tr>\n",
              "    <tr>\n",
              "      <td>14</td>\n",
              "      <td>Singapore</td>\n",
              "      <td>61</td>\n",
              "      <td>Sebastian Vettel</td>\n",
              "      <td>FERRARI</td>\n",
              "    </tr>\n",
              "    <tr>\n",
              "      <td>15</td>\n",
              "      <td>Russia</td>\n",
              "      <td>53</td>\n",
              "      <td>Lewis Hamilton</td>\n",
              "      <td>MERCEDES</td>\n",
              "    </tr>\n",
              "    <tr>\n",
              "      <td>16</td>\n",
              "      <td>Japan</td>\n",
              "      <td>52</td>\n",
              "      <td>Valtteri Bottas</td>\n",
              "      <td>MERCEDES</td>\n",
              "    </tr>\n",
              "    <tr>\n",
              "      <td>17</td>\n",
              "      <td>Mexico</td>\n",
              "      <td>71</td>\n",
              "      <td>Lewis Hamilton</td>\n",
              "      <td>MERCEDES</td>\n",
              "    </tr>\n",
              "    <tr>\n",
              "      <td>18</td>\n",
              "      <td>United States</td>\n",
              "      <td>56</td>\n",
              "      <td>Valtteri Bottas</td>\n",
              "      <td>MERCEDES</td>\n",
              "    </tr>\n",
              "    <tr>\n",
              "      <td>19</td>\n",
              "      <td>Brazil</td>\n",
              "      <td>71</td>\n",
              "      <td>Max Verstappen</td>\n",
              "      <td>RED BULL RACING HONDA</td>\n",
              "    </tr>\n",
              "    <tr>\n",
              "      <td>20</td>\n",
              "      <td>Abu Dhabi</td>\n",
              "      <td>55</td>\n",
              "      <td>Lewis Hamilton</td>\n",
              "      <td>MERCEDES</td>\n",
              "    </tr>\n",
              "  </tbody>\n",
              "</table>\n",
              "</div>"
            ],
            "text/plain": [
              "       grand_prix  laps            winner                    car\n",
              "0       Australia    58   Valtteri Bottas               MERCEDES\n",
              "1         Bahrain    57    Lewis Hamilton               MERCEDES\n",
              "2           China    56    Lewis Hamilton               MERCEDES\n",
              "3      Azerbaijan    51   Valtteri Bottas               MERCEDES\n",
              "4           Spain    66    Lewis Hamilton               MERCEDES\n",
              "5          Monaco    78    Lewis Hamilton               MERCEDES\n",
              "6          Canada    70    Lewis Hamilton               MERCEDES\n",
              "7          France    53    Lewis Hamilton               MERCEDES\n",
              "8         Austria    71    Max Verstappen  RED BULL RACING HONDA\n",
              "9   Great Britain    52    Lewis Hamilton               MERCEDES\n",
              "10        Germany    64    Max Verstappen  RED BULL RACING HONDA\n",
              "11        Hungary    70    Lewis Hamilton               MERCEDES\n",
              "12        Belgium    44   Charles Leclerc                FERRARI\n",
              "13          Italy    53   Charles Leclerc                FERRARI\n",
              "14      Singapore    61  Sebastian Vettel                FERRARI\n",
              "15         Russia    53    Lewis Hamilton               MERCEDES\n",
              "16          Japan    52   Valtteri Bottas               MERCEDES\n",
              "17         Mexico    71    Lewis Hamilton               MERCEDES\n",
              "18  United States    56   Valtteri Bottas               MERCEDES\n",
              "19         Brazil    71    Max Verstappen  RED BULL RACING HONDA\n",
              "20      Abu Dhabi    55    Lewis Hamilton               MERCEDES"
            ]
          },
          "metadata": {}
        }
      ],
      "execution_count": 19,
      "metadata": {}
    },
    {
      "cell_type": "markdown",
      "source": [
        "<a id=\"dataframe-characteristics\"></a>\n",
        "### DataFrame Characteristics\n"
      ],
      "metadata": {}
    },
    {
      "cell_type": "code",
      "source": [
        "f1_2019_races.shape"
      ],
      "outputs": [
        {
          "output_type": "execute_result",
          "execution_count": 20,
          "data": {
            "text/plain": [
              "(21, 4)"
            ]
          },
          "metadata": {}
        }
      ],
      "execution_count": 20,
      "metadata": {}
    },
    {
      "cell_type": "code",
      "source": [
        "f1_2019_races.describe()"
      ],
      "outputs": [
        {
          "output_type": "execute_result",
          "execution_count": 21,
          "data": {
            "text/html": [
              "<div>\n",
              "<style scoped>\n",
              "    .dataframe tbody tr th:only-of-type {\n",
              "        vertical-align: middle;\n",
              "    }\n",
              "\n",
              "    .dataframe tbody tr th {\n",
              "        vertical-align: top;\n",
              "    }\n",
              "\n",
              "    .dataframe thead th {\n",
              "        text-align: right;\n",
              "    }\n",
              "</style>\n",
              "<table border=\"1\" class=\"dataframe\">\n",
              "  <thead>\n",
              "    <tr style=\"text-align: right;\">\n",
              "      <th></th>\n",
              "      <th>laps</th>\n",
              "    </tr>\n",
              "  </thead>\n",
              "  <tbody>\n",
              "    <tr>\n",
              "      <td>count</td>\n",
              "      <td>21.000000</td>\n",
              "    </tr>\n",
              "    <tr>\n",
              "      <td>mean</td>\n",
              "      <td>60.095238</td>\n",
              "    </tr>\n",
              "    <tr>\n",
              "      <td>std</td>\n",
              "      <td>9.005025</td>\n",
              "    </tr>\n",
              "    <tr>\n",
              "      <td>min</td>\n",
              "      <td>44.000000</td>\n",
              "    </tr>\n",
              "    <tr>\n",
              "      <td>25%</td>\n",
              "      <td>53.000000</td>\n",
              "    </tr>\n",
              "    <tr>\n",
              "      <td>50%</td>\n",
              "      <td>57.000000</td>\n",
              "    </tr>\n",
              "    <tr>\n",
              "      <td>75%</td>\n",
              "      <td>70.000000</td>\n",
              "    </tr>\n",
              "    <tr>\n",
              "      <td>max</td>\n",
              "      <td>78.000000</td>\n",
              "    </tr>\n",
              "  </tbody>\n",
              "</table>\n",
              "</div>"
            ],
            "text/plain": [
              "            laps\n",
              "count  21.000000\n",
              "mean   60.095238\n",
              "std     9.005025\n",
              "min    44.000000\n",
              "25%    53.000000\n",
              "50%    57.000000\n",
              "75%    70.000000\n",
              "max    78.000000"
            ]
          },
          "metadata": {}
        }
      ],
      "execution_count": 21,
      "metadata": {}
    },
    {
      "cell_type": "code",
      "source": [
        "# describe is also available for Series (a column in the DataFrame)\n",
        "f1_2019_races['car'].describe()"
      ],
      "outputs": [
        {
          "output_type": "execute_result",
          "execution_count": 22,
          "data": {
            "text/plain": [
              "count           21\n",
              "unique           3\n",
              "top       MERCEDES\n",
              "freq            15\n",
              "Name: car, dtype: object"
            ]
          },
          "metadata": {}
        }
      ],
      "execution_count": 22,
      "metadata": {}
    },
    {
      "cell_type": "code",
      "source": [
        "# view the first few rows (defaults to first 5)\n",
        "f1_2019_races.head()"
      ],
      "outputs": [
        {
          "output_type": "execute_result",
          "execution_count": 23,
          "data": {
            "text/html": [
              "<div>\n",
              "<style scoped>\n",
              "    .dataframe tbody tr th:only-of-type {\n",
              "        vertical-align: middle;\n",
              "    }\n",
              "\n",
              "    .dataframe tbody tr th {\n",
              "        vertical-align: top;\n",
              "    }\n",
              "\n",
              "    .dataframe thead th {\n",
              "        text-align: right;\n",
              "    }\n",
              "</style>\n",
              "<table border=\"1\" class=\"dataframe\">\n",
              "  <thead>\n",
              "    <tr style=\"text-align: right;\">\n",
              "      <th></th>\n",
              "      <th>grand_prix</th>\n",
              "      <th>laps</th>\n",
              "      <th>winner</th>\n",
              "      <th>car</th>\n",
              "    </tr>\n",
              "  </thead>\n",
              "  <tbody>\n",
              "    <tr>\n",
              "      <td>0</td>\n",
              "      <td>Australia</td>\n",
              "      <td>58</td>\n",
              "      <td>Valtteri Bottas</td>\n",
              "      <td>MERCEDES</td>\n",
              "    </tr>\n",
              "    <tr>\n",
              "      <td>1</td>\n",
              "      <td>Bahrain</td>\n",
              "      <td>57</td>\n",
              "      <td>Lewis Hamilton</td>\n",
              "      <td>MERCEDES</td>\n",
              "    </tr>\n",
              "    <tr>\n",
              "      <td>2</td>\n",
              "      <td>China</td>\n",
              "      <td>56</td>\n",
              "      <td>Lewis Hamilton</td>\n",
              "      <td>MERCEDES</td>\n",
              "    </tr>\n",
              "    <tr>\n",
              "      <td>3</td>\n",
              "      <td>Azerbaijan</td>\n",
              "      <td>51</td>\n",
              "      <td>Valtteri Bottas</td>\n",
              "      <td>MERCEDES</td>\n",
              "    </tr>\n",
              "    <tr>\n",
              "      <td>4</td>\n",
              "      <td>Spain</td>\n",
              "      <td>66</td>\n",
              "      <td>Lewis Hamilton</td>\n",
              "      <td>MERCEDES</td>\n",
              "    </tr>\n",
              "  </tbody>\n",
              "</table>\n",
              "</div>"
            ],
            "text/plain": [
              "   grand_prix  laps           winner       car\n",
              "0   Australia    58  Valtteri Bottas  MERCEDES\n",
              "1     Bahrain    57   Lewis Hamilton  MERCEDES\n",
              "2       China    56   Lewis Hamilton  MERCEDES\n",
              "3  Azerbaijan    51  Valtteri Bottas  MERCEDES\n",
              "4       Spain    66   Lewis Hamilton  MERCEDES"
            ]
          },
          "metadata": {}
        }
      ],
      "execution_count": 23,
      "metadata": {}
    },
    {
      "cell_type": "code",
      "source": [
        "f1_2019_races.head(3) # we can specify how many we want instead of the default value."
      ],
      "outputs": [
        {
          "output_type": "execute_result",
          "execution_count": 24,
          "data": {
            "text/html": [
              "<div>\n",
              "<style scoped>\n",
              "    .dataframe tbody tr th:only-of-type {\n",
              "        vertical-align: middle;\n",
              "    }\n",
              "\n",
              "    .dataframe tbody tr th {\n",
              "        vertical-align: top;\n",
              "    }\n",
              "\n",
              "    .dataframe thead th {\n",
              "        text-align: right;\n",
              "    }\n",
              "</style>\n",
              "<table border=\"1\" class=\"dataframe\">\n",
              "  <thead>\n",
              "    <tr style=\"text-align: right;\">\n",
              "      <th></th>\n",
              "      <th>grand_prix</th>\n",
              "      <th>laps</th>\n",
              "      <th>winner</th>\n",
              "      <th>car</th>\n",
              "    </tr>\n",
              "  </thead>\n",
              "  <tbody>\n",
              "    <tr>\n",
              "      <td>0</td>\n",
              "      <td>Australia</td>\n",
              "      <td>58</td>\n",
              "      <td>Valtteri Bottas</td>\n",
              "      <td>MERCEDES</td>\n",
              "    </tr>\n",
              "    <tr>\n",
              "      <td>1</td>\n",
              "      <td>Bahrain</td>\n",
              "      <td>57</td>\n",
              "      <td>Lewis Hamilton</td>\n",
              "      <td>MERCEDES</td>\n",
              "    </tr>\n",
              "    <tr>\n",
              "      <td>2</td>\n",
              "      <td>China</td>\n",
              "      <td>56</td>\n",
              "      <td>Lewis Hamilton</td>\n",
              "      <td>MERCEDES</td>\n",
              "    </tr>\n",
              "  </tbody>\n",
              "</table>\n",
              "</div>"
            ],
            "text/plain": [
              "  grand_prix  laps           winner       car\n",
              "0  Australia    58  Valtteri Bottas  MERCEDES\n",
              "1    Bahrain    57   Lewis Hamilton  MERCEDES\n",
              "2      China    56   Lewis Hamilton  MERCEDES"
            ]
          },
          "metadata": {}
        }
      ],
      "execution_count": 24,
      "metadata": {}
    },
    {
      "cell_type": "code",
      "source": [
        "# view the last few rows (defaults to last 5)\n",
        "f1_2019_races.tail()"
      ],
      "outputs": [
        {
          "output_type": "execute_result",
          "execution_count": 25,
          "data": {
            "text/html": [
              "<div>\n",
              "<style scoped>\n",
              "    .dataframe tbody tr th:only-of-type {\n",
              "        vertical-align: middle;\n",
              "    }\n",
              "\n",
              "    .dataframe tbody tr th {\n",
              "        vertical-align: top;\n",
              "    }\n",
              "\n",
              "    .dataframe thead th {\n",
              "        text-align: right;\n",
              "    }\n",
              "</style>\n",
              "<table border=\"1\" class=\"dataframe\">\n",
              "  <thead>\n",
              "    <tr style=\"text-align: right;\">\n",
              "      <th></th>\n",
              "      <th>grand_prix</th>\n",
              "      <th>laps</th>\n",
              "      <th>winner</th>\n",
              "      <th>car</th>\n",
              "    </tr>\n",
              "  </thead>\n",
              "  <tbody>\n",
              "    <tr>\n",
              "      <td>16</td>\n",
              "      <td>Japan</td>\n",
              "      <td>52</td>\n",
              "      <td>Valtteri Bottas</td>\n",
              "      <td>MERCEDES</td>\n",
              "    </tr>\n",
              "    <tr>\n",
              "      <td>17</td>\n",
              "      <td>Mexico</td>\n",
              "      <td>71</td>\n",
              "      <td>Lewis Hamilton</td>\n",
              "      <td>MERCEDES</td>\n",
              "    </tr>\n",
              "    <tr>\n",
              "      <td>18</td>\n",
              "      <td>United States</td>\n",
              "      <td>56</td>\n",
              "      <td>Valtteri Bottas</td>\n",
              "      <td>MERCEDES</td>\n",
              "    </tr>\n",
              "    <tr>\n",
              "      <td>19</td>\n",
              "      <td>Brazil</td>\n",
              "      <td>71</td>\n",
              "      <td>Max Verstappen</td>\n",
              "      <td>RED BULL RACING HONDA</td>\n",
              "    </tr>\n",
              "    <tr>\n",
              "      <td>20</td>\n",
              "      <td>Abu Dhabi</td>\n",
              "      <td>55</td>\n",
              "      <td>Lewis Hamilton</td>\n",
              "      <td>MERCEDES</td>\n",
              "    </tr>\n",
              "  </tbody>\n",
              "</table>\n",
              "</div>"
            ],
            "text/plain": [
              "       grand_prix  laps           winner                    car\n",
              "16          Japan    52  Valtteri Bottas               MERCEDES\n",
              "17         Mexico    71   Lewis Hamilton               MERCEDES\n",
              "18  United States    56  Valtteri Bottas               MERCEDES\n",
              "19         Brazil    71   Max Verstappen  RED BULL RACING HONDA\n",
              "20      Abu Dhabi    55   Lewis Hamilton               MERCEDES"
            ]
          },
          "metadata": {}
        }
      ],
      "execution_count": 25,
      "metadata": {}
    },
    {
      "cell_type": "code",
      "source": [
        "f1_2019_races.tail(7) # we can specify how many we want instead of the default value."
      ],
      "outputs": [
        {
          "output_type": "execute_result",
          "execution_count": 26,
          "data": {
            "text/html": [
              "<div>\n",
              "<style scoped>\n",
              "    .dataframe tbody tr th:only-of-type {\n",
              "        vertical-align: middle;\n",
              "    }\n",
              "\n",
              "    .dataframe tbody tr th {\n",
              "        vertical-align: top;\n",
              "    }\n",
              "\n",
              "    .dataframe thead th {\n",
              "        text-align: right;\n",
              "    }\n",
              "</style>\n",
              "<table border=\"1\" class=\"dataframe\">\n",
              "  <thead>\n",
              "    <tr style=\"text-align: right;\">\n",
              "      <th></th>\n",
              "      <th>grand_prix</th>\n",
              "      <th>laps</th>\n",
              "      <th>winner</th>\n",
              "      <th>car</th>\n",
              "    </tr>\n",
              "  </thead>\n",
              "  <tbody>\n",
              "    <tr>\n",
              "      <td>14</td>\n",
              "      <td>Singapore</td>\n",
              "      <td>61</td>\n",
              "      <td>Sebastian Vettel</td>\n",
              "      <td>FERRARI</td>\n",
              "    </tr>\n",
              "    <tr>\n",
              "      <td>15</td>\n",
              "      <td>Russia</td>\n",
              "      <td>53</td>\n",
              "      <td>Lewis Hamilton</td>\n",
              "      <td>MERCEDES</td>\n",
              "    </tr>\n",
              "    <tr>\n",
              "      <td>16</td>\n",
              "      <td>Japan</td>\n",
              "      <td>52</td>\n",
              "      <td>Valtteri Bottas</td>\n",
              "      <td>MERCEDES</td>\n",
              "    </tr>\n",
              "    <tr>\n",
              "      <td>17</td>\n",
              "      <td>Mexico</td>\n",
              "      <td>71</td>\n",
              "      <td>Lewis Hamilton</td>\n",
              "      <td>MERCEDES</td>\n",
              "    </tr>\n",
              "    <tr>\n",
              "      <td>18</td>\n",
              "      <td>United States</td>\n",
              "      <td>56</td>\n",
              "      <td>Valtteri Bottas</td>\n",
              "      <td>MERCEDES</td>\n",
              "    </tr>\n",
              "    <tr>\n",
              "      <td>19</td>\n",
              "      <td>Brazil</td>\n",
              "      <td>71</td>\n",
              "      <td>Max Verstappen</td>\n",
              "      <td>RED BULL RACING HONDA</td>\n",
              "    </tr>\n",
              "    <tr>\n",
              "      <td>20</td>\n",
              "      <td>Abu Dhabi</td>\n",
              "      <td>55</td>\n",
              "      <td>Lewis Hamilton</td>\n",
              "      <td>MERCEDES</td>\n",
              "    </tr>\n",
              "  </tbody>\n",
              "</table>\n",
              "</div>"
            ],
            "text/plain": [
              "       grand_prix  laps            winner                    car\n",
              "14      Singapore    61  Sebastian Vettel                FERRARI\n",
              "15         Russia    53    Lewis Hamilton               MERCEDES\n",
              "16          Japan    52   Valtteri Bottas               MERCEDES\n",
              "17         Mexico    71    Lewis Hamilton               MERCEDES\n",
              "18  United States    56   Valtteri Bottas               MERCEDES\n",
              "19         Brazil    71    Max Verstappen  RED BULL RACING HONDA\n",
              "20      Abu Dhabi    55    Lewis Hamilton               MERCEDES"
            ]
          },
          "metadata": {}
        }
      ],
      "execution_count": 26,
      "metadata": {}
    },
    {
      "cell_type": "markdown",
      "source": [
        "<a id=\"dataframe-indexing\"></a>\n",
        "### DataFrame Indexing\n"
      ],
      "metadata": {}
    },
    {
      "cell_type": "markdown",
      "source": [
        "**Using iloc to select a single row**"
      ],
      "metadata": {}
    },
    {
      "cell_type": "code",
      "source": [
        "# select the first row by index position\n",
        "f1_2019_races.iloc[0]"
      ],
      "outputs": [
        {
          "output_type": "execute_result",
          "execution_count": 27,
          "data": {
            "text/plain": [
              "grand_prix          Australia\n",
              "laps                       58\n",
              "winner        Valtteri Bottas\n",
              "car                  MERCEDES\n",
              "Name: 0, dtype: object"
            ]
          },
          "metadata": {}
        }
      ],
      "execution_count": 27,
      "metadata": {}
    },
    {
      "cell_type": "code",
      "source": [
        "# select the last row by index position\n",
        "f1_2019_races.iloc[-1]"
      ],
      "outputs": [
        {
          "output_type": "execute_result",
          "execution_count": 28,
          "data": {
            "text/plain": [
              "grand_prix         Abu Dhabi\n",
              "laps                      55\n",
              "winner        Lewis Hamilton\n",
              "car                 MERCEDES\n",
              "Name: 20, dtype: object"
            ]
          },
          "metadata": {}
        }
      ],
      "execution_count": 28,
      "metadata": {}
    },
    {
      "cell_type": "markdown",
      "source": [
        "**Using iloc to select multiple rows (slicing)**"
      ],
      "metadata": {}
    },
    {
      "cell_type": "code",
      "source": [
        "# select rows associated with indexes 7-13\n",
        "f1_2019_races.iloc[7:14]"
      ],
      "outputs": [
        {
          "output_type": "execute_result",
          "execution_count": 29,
          "data": {
            "text/html": [
              "<div>\n",
              "<style scoped>\n",
              "    .dataframe tbody tr th:only-of-type {\n",
              "        vertical-align: middle;\n",
              "    }\n",
              "\n",
              "    .dataframe tbody tr th {\n",
              "        vertical-align: top;\n",
              "    }\n",
              "\n",
              "    .dataframe thead th {\n",
              "        text-align: right;\n",
              "    }\n",
              "</style>\n",
              "<table border=\"1\" class=\"dataframe\">\n",
              "  <thead>\n",
              "    <tr style=\"text-align: right;\">\n",
              "      <th></th>\n",
              "      <th>grand_prix</th>\n",
              "      <th>laps</th>\n",
              "      <th>winner</th>\n",
              "      <th>car</th>\n",
              "    </tr>\n",
              "  </thead>\n",
              "  <tbody>\n",
              "    <tr>\n",
              "      <td>7</td>\n",
              "      <td>France</td>\n",
              "      <td>53</td>\n",
              "      <td>Lewis Hamilton</td>\n",
              "      <td>MERCEDES</td>\n",
              "    </tr>\n",
              "    <tr>\n",
              "      <td>8</td>\n",
              "      <td>Austria</td>\n",
              "      <td>71</td>\n",
              "      <td>Max Verstappen</td>\n",
              "      <td>RED BULL RACING HONDA</td>\n",
              "    </tr>\n",
              "    <tr>\n",
              "      <td>9</td>\n",
              "      <td>Great Britain</td>\n",
              "      <td>52</td>\n",
              "      <td>Lewis Hamilton</td>\n",
              "      <td>MERCEDES</td>\n",
              "    </tr>\n",
              "    <tr>\n",
              "      <td>10</td>\n",
              "      <td>Germany</td>\n",
              "      <td>64</td>\n",
              "      <td>Max Verstappen</td>\n",
              "      <td>RED BULL RACING HONDA</td>\n",
              "    </tr>\n",
              "    <tr>\n",
              "      <td>11</td>\n",
              "      <td>Hungary</td>\n",
              "      <td>70</td>\n",
              "      <td>Lewis Hamilton</td>\n",
              "      <td>MERCEDES</td>\n",
              "    </tr>\n",
              "    <tr>\n",
              "      <td>12</td>\n",
              "      <td>Belgium</td>\n",
              "      <td>44</td>\n",
              "      <td>Charles Leclerc</td>\n",
              "      <td>FERRARI</td>\n",
              "    </tr>\n",
              "    <tr>\n",
              "      <td>13</td>\n",
              "      <td>Italy</td>\n",
              "      <td>53</td>\n",
              "      <td>Charles Leclerc</td>\n",
              "      <td>FERRARI</td>\n",
              "    </tr>\n",
              "  </tbody>\n",
              "</table>\n",
              "</div>"
            ],
            "text/plain": [
              "       grand_prix  laps           winner                    car\n",
              "7          France    53   Lewis Hamilton               MERCEDES\n",
              "8         Austria    71   Max Verstappen  RED BULL RACING HONDA\n",
              "9   Great Britain    52   Lewis Hamilton               MERCEDES\n",
              "10        Germany    64   Max Verstappen  RED BULL RACING HONDA\n",
              "11        Hungary    70   Lewis Hamilton               MERCEDES\n",
              "12        Belgium    44  Charles Leclerc                FERRARI\n",
              "13          Italy    53  Charles Leclerc                FERRARI"
            ]
          },
          "metadata": {}
        }
      ],
      "execution_count": 29,
      "metadata": {}
    },
    {
      "cell_type": "markdown",
      "source": [
        "**Using iloc to select multiple rows with steps (slicing with steps)**"
      ],
      "metadata": {}
    },
    {
      "cell_type": "code",
      "source": [
        "# select every third race in the DataFrame starting with the 3rd race\n",
        "# remember that arrays use zero based indexes\n",
        "f1_2019_races.iloc[2::3]"
      ],
      "outputs": [
        {
          "output_type": "execute_result",
          "execution_count": 30,
          "data": {
            "text/html": [
              "<div>\n",
              "<style scoped>\n",
              "    .dataframe tbody tr th:only-of-type {\n",
              "        vertical-align: middle;\n",
              "    }\n",
              "\n",
              "    .dataframe tbody tr th {\n",
              "        vertical-align: top;\n",
              "    }\n",
              "\n",
              "    .dataframe thead th {\n",
              "        text-align: right;\n",
              "    }\n",
              "</style>\n",
              "<table border=\"1\" class=\"dataframe\">\n",
              "  <thead>\n",
              "    <tr style=\"text-align: right;\">\n",
              "      <th></th>\n",
              "      <th>grand_prix</th>\n",
              "      <th>laps</th>\n",
              "      <th>winner</th>\n",
              "      <th>car</th>\n",
              "    </tr>\n",
              "  </thead>\n",
              "  <tbody>\n",
              "    <tr>\n",
              "      <td>2</td>\n",
              "      <td>China</td>\n",
              "      <td>56</td>\n",
              "      <td>Lewis Hamilton</td>\n",
              "      <td>MERCEDES</td>\n",
              "    </tr>\n",
              "    <tr>\n",
              "      <td>5</td>\n",
              "      <td>Monaco</td>\n",
              "      <td>78</td>\n",
              "      <td>Lewis Hamilton</td>\n",
              "      <td>MERCEDES</td>\n",
              "    </tr>\n",
              "    <tr>\n",
              "      <td>8</td>\n",
              "      <td>Austria</td>\n",
              "      <td>71</td>\n",
              "      <td>Max Verstappen</td>\n",
              "      <td>RED BULL RACING HONDA</td>\n",
              "    </tr>\n",
              "    <tr>\n",
              "      <td>11</td>\n",
              "      <td>Hungary</td>\n",
              "      <td>70</td>\n",
              "      <td>Lewis Hamilton</td>\n",
              "      <td>MERCEDES</td>\n",
              "    </tr>\n",
              "    <tr>\n",
              "      <td>14</td>\n",
              "      <td>Singapore</td>\n",
              "      <td>61</td>\n",
              "      <td>Sebastian Vettel</td>\n",
              "      <td>FERRARI</td>\n",
              "    </tr>\n",
              "    <tr>\n",
              "      <td>17</td>\n",
              "      <td>Mexico</td>\n",
              "      <td>71</td>\n",
              "      <td>Lewis Hamilton</td>\n",
              "      <td>MERCEDES</td>\n",
              "    </tr>\n",
              "    <tr>\n",
              "      <td>20</td>\n",
              "      <td>Abu Dhabi</td>\n",
              "      <td>55</td>\n",
              "      <td>Lewis Hamilton</td>\n",
              "      <td>MERCEDES</td>\n",
              "    </tr>\n",
              "  </tbody>\n",
              "</table>\n",
              "</div>"
            ],
            "text/plain": [
              "   grand_prix  laps            winner                    car\n",
              "2       China    56    Lewis Hamilton               MERCEDES\n",
              "5      Monaco    78    Lewis Hamilton               MERCEDES\n",
              "8     Austria    71    Max Verstappen  RED BULL RACING HONDA\n",
              "11    Hungary    70    Lewis Hamilton               MERCEDES\n",
              "14  Singapore    61  Sebastian Vettel                FERRARI\n",
              "17     Mexico    71    Lewis Hamilton               MERCEDES\n",
              "20  Abu Dhabi    55    Lewis Hamilton               MERCEDES"
            ]
          },
          "metadata": {}
        }
      ],
      "execution_count": 30,
      "metadata": {}
    },
    {
      "cell_type": "markdown",
      "source": [
        "**Setting an index**"
      ],
      "metadata": {}
    },
    {
      "cell_type": "code",
      "source": [
        "f1_2019_races = f1_2019_races.set_index(f1_2019_races['grand_prix'])"
      ],
      "outputs": [],
      "execution_count": 31,
      "metadata": {}
    },
    {
      "cell_type": "markdown",
      "source": [
        "**Using loc to select a single row**"
      ],
      "metadata": {}
    },
    {
      "cell_type": "code",
      "source": [
        "# select the row corresponding to the Brazilian Grand Prix\n",
        "f1_2019_races.loc['Brazil']"
      ],
      "outputs": [
        {
          "output_type": "execute_result",
          "execution_count": 32,
          "data": {
            "text/plain": [
              "grand_prix                   Brazil\n",
              "laps                             71\n",
              "winner               Max Verstappen\n",
              "car           RED BULL RACING HONDA\n",
              "Name: Brazil, dtype: object"
            ]
          },
          "metadata": {}
        }
      ],
      "execution_count": 32,
      "metadata": {}
    },
    {
      "cell_type": "markdown",
      "source": [
        "<a id=\"conditionals\"></a>\n",
        "### Conditionals\n"
      ],
      "metadata": {}
    },
    {
      "cell_type": "markdown",
      "source": [
        "Single condition"
      ],
      "metadata": {}
    },
    {
      "cell_type": "code",
      "source": [
        "# Find races that Mercedes did not win first place.\n",
        "f1_2019_races[f1_2019_races['car'] != 'MERCEDES']"
      ],
      "outputs": [
        {
          "output_type": "execute_result",
          "execution_count": 33,
          "data": {
            "text/html": [
              "<div>\n",
              "<style scoped>\n",
              "    .dataframe tbody tr th:only-of-type {\n",
              "        vertical-align: middle;\n",
              "    }\n",
              "\n",
              "    .dataframe tbody tr th {\n",
              "        vertical-align: top;\n",
              "    }\n",
              "\n",
              "    .dataframe thead th {\n",
              "        text-align: right;\n",
              "    }\n",
              "</style>\n",
              "<table border=\"1\" class=\"dataframe\">\n",
              "  <thead>\n",
              "    <tr style=\"text-align: right;\">\n",
              "      <th></th>\n",
              "      <th>grand_prix</th>\n",
              "      <th>laps</th>\n",
              "      <th>winner</th>\n",
              "      <th>car</th>\n",
              "    </tr>\n",
              "    <tr>\n",
              "      <th>grand_prix</th>\n",
              "      <th></th>\n",
              "      <th></th>\n",
              "      <th></th>\n",
              "      <th></th>\n",
              "    </tr>\n",
              "  </thead>\n",
              "  <tbody>\n",
              "    <tr>\n",
              "      <td>Austria</td>\n",
              "      <td>Austria</td>\n",
              "      <td>71</td>\n",
              "      <td>Max Verstappen</td>\n",
              "      <td>RED BULL RACING HONDA</td>\n",
              "    </tr>\n",
              "    <tr>\n",
              "      <td>Germany</td>\n",
              "      <td>Germany</td>\n",
              "      <td>64</td>\n",
              "      <td>Max Verstappen</td>\n",
              "      <td>RED BULL RACING HONDA</td>\n",
              "    </tr>\n",
              "    <tr>\n",
              "      <td>Belgium</td>\n",
              "      <td>Belgium</td>\n",
              "      <td>44</td>\n",
              "      <td>Charles Leclerc</td>\n",
              "      <td>FERRARI</td>\n",
              "    </tr>\n",
              "    <tr>\n",
              "      <td>Italy</td>\n",
              "      <td>Italy</td>\n",
              "      <td>53</td>\n",
              "      <td>Charles Leclerc</td>\n",
              "      <td>FERRARI</td>\n",
              "    </tr>\n",
              "    <tr>\n",
              "      <td>Singapore</td>\n",
              "      <td>Singapore</td>\n",
              "      <td>61</td>\n",
              "      <td>Sebastian Vettel</td>\n",
              "      <td>FERRARI</td>\n",
              "    </tr>\n",
              "    <tr>\n",
              "      <td>Brazil</td>\n",
              "      <td>Brazil</td>\n",
              "      <td>71</td>\n",
              "      <td>Max Verstappen</td>\n",
              "      <td>RED BULL RACING HONDA</td>\n",
              "    </tr>\n",
              "  </tbody>\n",
              "</table>\n",
              "</div>"
            ],
            "text/plain": [
              "           grand_prix  laps            winner                    car\n",
              "grand_prix                                                          \n",
              "Austria       Austria    71    Max Verstappen  RED BULL RACING HONDA\n",
              "Germany       Germany    64    Max Verstappen  RED BULL RACING HONDA\n",
              "Belgium       Belgium    44   Charles Leclerc                FERRARI\n",
              "Italy           Italy    53   Charles Leclerc                FERRARI\n",
              "Singapore   Singapore    61  Sebastian Vettel                FERRARI\n",
              "Brazil         Brazil    71    Max Verstappen  RED BULL RACING HONDA"
            ]
          },
          "metadata": {}
        }
      ],
      "execution_count": 33,
      "metadata": {}
    },
    {
      "cell_type": "markdown",
      "source": [
        "When using multiple conditions be sure to:  \n",
        "* separate each condition with the & sign  \n",
        "* wrap each condition in parentheses"
      ],
      "metadata": {}
    },
    {
      "cell_type": "code",
      "source": [
        "# Find the races where the race had less than 60 laps and the winner was someone other than Lewis Hamilton\n",
        "f1_2019_races[(f1_2019_races['laps'] < 60) & (f1_2019_races['winner'] != 'Lewis Hamilton')]"
      ],
      "outputs": [
        {
          "output_type": "execute_result",
          "execution_count": 34,
          "data": {
            "text/html": [
              "<div>\n",
              "<style scoped>\n",
              "    .dataframe tbody tr th:only-of-type {\n",
              "        vertical-align: middle;\n",
              "    }\n",
              "\n",
              "    .dataframe tbody tr th {\n",
              "        vertical-align: top;\n",
              "    }\n",
              "\n",
              "    .dataframe thead th {\n",
              "        text-align: right;\n",
              "    }\n",
              "</style>\n",
              "<table border=\"1\" class=\"dataframe\">\n",
              "  <thead>\n",
              "    <tr style=\"text-align: right;\">\n",
              "      <th></th>\n",
              "      <th>grand_prix</th>\n",
              "      <th>laps</th>\n",
              "      <th>winner</th>\n",
              "      <th>car</th>\n",
              "    </tr>\n",
              "    <tr>\n",
              "      <th>grand_prix</th>\n",
              "      <th></th>\n",
              "      <th></th>\n",
              "      <th></th>\n",
              "      <th></th>\n",
              "    </tr>\n",
              "  </thead>\n",
              "  <tbody>\n",
              "    <tr>\n",
              "      <td>Australia</td>\n",
              "      <td>Australia</td>\n",
              "      <td>58</td>\n",
              "      <td>Valtteri Bottas</td>\n",
              "      <td>MERCEDES</td>\n",
              "    </tr>\n",
              "    <tr>\n",
              "      <td>Azerbaijan</td>\n",
              "      <td>Azerbaijan</td>\n",
              "      <td>51</td>\n",
              "      <td>Valtteri Bottas</td>\n",
              "      <td>MERCEDES</td>\n",
              "    </tr>\n",
              "    <tr>\n",
              "      <td>Belgium</td>\n",
              "      <td>Belgium</td>\n",
              "      <td>44</td>\n",
              "      <td>Charles Leclerc</td>\n",
              "      <td>FERRARI</td>\n",
              "    </tr>\n",
              "    <tr>\n",
              "      <td>Italy</td>\n",
              "      <td>Italy</td>\n",
              "      <td>53</td>\n",
              "      <td>Charles Leclerc</td>\n",
              "      <td>FERRARI</td>\n",
              "    </tr>\n",
              "    <tr>\n",
              "      <td>Japan</td>\n",
              "      <td>Japan</td>\n",
              "      <td>52</td>\n",
              "      <td>Valtteri Bottas</td>\n",
              "      <td>MERCEDES</td>\n",
              "    </tr>\n",
              "    <tr>\n",
              "      <td>United States</td>\n",
              "      <td>United States</td>\n",
              "      <td>56</td>\n",
              "      <td>Valtteri Bottas</td>\n",
              "      <td>MERCEDES</td>\n",
              "    </tr>\n",
              "  </tbody>\n",
              "</table>\n",
              "</div>"
            ],
            "text/plain": [
              "                  grand_prix  laps           winner       car\n",
              "grand_prix                                                   \n",
              "Australia          Australia    58  Valtteri Bottas  MERCEDES\n",
              "Azerbaijan        Azerbaijan    51  Valtteri Bottas  MERCEDES\n",
              "Belgium              Belgium    44  Charles Leclerc   FERRARI\n",
              "Italy                  Italy    53  Charles Leclerc   FERRARI\n",
              "Japan                  Japan    52  Valtteri Bottas  MERCEDES\n",
              "United States  United States    56  Valtteri Bottas  MERCEDES"
            ]
          },
          "metadata": {}
        }
      ],
      "execution_count": 34,
      "metadata": {}
    },
    {
      "cell_type": "markdown",
      "source": [
        "<a id=\"resources\"></a>\n",
        "### Resources\n",
        "\n",
        "* [User Guide](https://pandas.pydata.org/pandas-docs/stable/user_guide/index.html)\n",
        "* [Pandas Category Data Type](https://pbpython.com/pandas_dtypes_cat.html)"
      ],
      "metadata": {}
    },
    {
      "cell_type": "markdown",
      "source": [],
      "metadata": {
        "nteract": {
          "transient": {
            "deleting": false
          }
        }
      }
    }
  ],
  "metadata": {
    "kernelspec": {
      "display_name": "Python 3",
      "language": "python",
      "name": "python3"
    },
    "language_info": {
      "codemirror_mode": {
        "name": "ipython",
        "version": 3
      },
      "file_extension": ".py",
      "mimetype": "text/x-python",
      "name": "python",
      "nbconvert_exporter": "python",
      "pygments_lexer": "ipython3",
      "version": "3.7.4"
    },
    "nteract": {
      "version": "0.21.0"
    }
  },
  "nbformat": 4,
  "nbformat_minor": 2
}